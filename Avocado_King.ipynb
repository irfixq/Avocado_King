{
  "nbformat": 4,
  "nbformat_minor": 0,
  "metadata": {
    "colab": {
      "name": "Avocado_King.ipynb",
      "provenance": [],
      "toc_visible": true,
      "authorship_tag": "ABX9TyNpjQHaOWFrUvO/19jk43gq",
      "include_colab_link": true
    },
    "kernelspec": {
      "name": "python3",
      "display_name": "Python 3"
    }
  },
  "cells": [
    {
      "cell_type": "markdown",
      "metadata": {
        "id": "view-in-github",
        "colab_type": "text"
      },
      "source": [
        "<a href=\"https://colab.research.google.com/github/irfixq/Avocado_King/blob/main/Avocado_King.ipynb\" target=\"_parent\"><img src=\"https://colab.research.google.com/assets/colab-badge.svg\" alt=\"Open In Colab\"/></a>"
      ]
    },
    {
      "cell_type": "markdown",
      "metadata": {
        "id": "3N37HxWnw2Ln"
      },
      "source": [
        "# Avocado King - Price & Sales Prediction using python"
      ]
    },
    {
      "cell_type": "markdown",
      "metadata": {
        "id": "sZmttJ6Zb4Tt"
      },
      "source": [
        "## System Configuration"
      ]
    },
    {
      "cell_type": "code",
      "metadata": {
        "id": "S_LgmTIRwhSn"
      },
      "source": [
        "import sys #access to system parameters https://docs.python.org/3/library/sys.html\r\n",
        "\r\n",
        "import numpy as np # linear algebra\r\n",
        "\r\n",
        "import pandas as pd # data processing, CSV file I/O (e.g. pd.read_csv)\r\n",
        "%load_ext google.colab.data_table\r\n",
        "\r\n",
        "import matplotlib # collection of functions for scientific and publication-ready visualization\r\n",
        "import matplotlib.pyplot as plt\r\n",
        "%matplotlib inline\r\n",
        "\r\n",
        "import warnings # ignore warnings\r\n",
        "warnings.filterwarnings('ignore')\r\n"
      ],
      "execution_count": null,
      "outputs": []
    },
    {
      "cell_type": "code",
      "metadata": {
        "id": "daJsfghPbscM"
      },
      "source": [
        "## Check system and python dependencies version\r\n",
        "print(\"Python version: {}\". format(sys.version))\r\n",
        "print(\"NumPy version: {}\". format(np.__version__))\r\n",
        "print(\"pandas version: {}\". format(pd.__version__))\r\n",
        "print(\"matplotlib version: {}\". format(matplotlib.__version__))\r\n"
      ],
      "execution_count": null,
      "outputs": []
    },
    {
      "cell_type": "markdown",
      "metadata": {
        "id": "8OYOXbyezrvc"
      },
      "source": [
        "There are 2 options to get the data, either from GitHub or Google Drive.\r\n",
        "In this case, I prefer to use Git Clone since it will be easier for user to access the repo instead of loading everything into their Google Drive or local."
      ]
    },
    {
      "cell_type": "code",
      "metadata": {
        "id": "flmH4nz0zgkI"
      },
      "source": [
        "## Clone repo from GitHub\r\n",
        "! git clone 'https://github.com/irfixq/Avocado_King'"
      ],
      "execution_count": null,
      "outputs": []
    },
    {
      "cell_type": "code",
      "metadata": {
        "id": "wBSvyvrexLww"
      },
      "source": [
        "## Mount Google Drive to get data\r\n",
        "## make sure you uploaded the folder into your Google Drive first\r\n",
        "\r\n",
        "#from google.colab import drive \r\n",
        "#drive.mount('/content/drive')"
      ],
      "execution_count": null,
      "outputs": []
    },
    {
      "cell_type": "code",
      "metadata": {
        "id": "KJ188A0N0bNZ"
      },
      "source": [
        "## get working directory\r\n",
        "! pwd\r\n",
        "\r\n",
        "## list all folders in working directory\r\n",
        "! ls"
      ],
      "execution_count": null,
      "outputs": []
    },
    {
      "cell_type": "code",
      "metadata": {
        "id": "eVhfHnGoxzZe"
      },
      "source": [
        "## change working directory to github folder\r\n",
        "import os\r\n",
        "os.chdir('/content/Avocado_King')\r\n"
      ],
      "execution_count": null,
      "outputs": []
    },
    {
      "cell_type": "code",
      "metadata": {
        "id": "Xo7MTdcj1x2G"
      },
      "source": [
        "## check working directory after change path\r\n",
        "! pwd\r\n",
        "! ls"
      ],
      "execution_count": null,
      "outputs": []
    },
    {
      "cell_type": "markdown",
      "metadata": {
        "id": "MQ-yd4G3w0ID"
      },
      "source": [
        "## Data Pre-Processing\r\n",
        "\r\n",
        "1.   Data pre-processing for price and sales data\r\n",
        "> * Read dataset  as pandas dataframe\r\n",
        "> * Check for df dimension (rows, columns)\r\n",
        "> * Check for column names and datatype\r\n",
        "> * Show raw dataset table\r\n",
        "> * Check for missing values\r\n",
        "> * Handle missing values (if any)\r\n",
        "\r\n",
        "\r\n",
        "2.   Data pre-processing for Google search data\r\n",
        "\r\n"
      ]
    },
    {
      "cell_type": "markdown",
      "metadata": {
        "id": "SCRmV_Y8_2Sa"
      },
      "source": [
        "##### Price and Sales Data"
      ]
    },
    {
      "cell_type": "code",
      "metadata": {
        "id": "ae1To9FQw05Y"
      },
      "source": [
        "## see the shape of the dataset (rows, columns)\r\n",
        "df_price = pd.read_csv('/content/Avocado_King/price-and-sales-data.csv')\r\n",
        "df_price.shape"
      ],
      "execution_count": null,
      "outputs": []
    },
    {
      "cell_type": "code",
      "metadata": {
        "id": "ck_DDBfK21_-"
      },
      "source": [
        "## list all column names\r\n",
        "df_price.columns"
      ],
      "execution_count": null,
      "outputs": []
    },
    {
      "cell_type": "code",
      "metadata": {
        "id": "_DA953y8_ia-"
      },
      "source": [
        "## checking data type of each column\r\n",
        "df_price.dtypes"
      ],
      "execution_count": null,
      "outputs": []
    },
    {
      "cell_type": "code",
      "metadata": {
        "id": "xy7qD4a92Qdg"
      },
      "source": [
        "## see the dataset\r\n",
        "df_price"
      ],
      "execution_count": null,
      "outputs": []
    },
    {
      "cell_type": "code",
      "metadata": {
        "id": "ej5WC2SK-tmd"
      },
      "source": [
        "## check for missing values in dataset\r\n",
        "df_price_NA_check = df_price.isna();\r\n",
        "df_price_NA_check"
      ],
      "execution_count": null,
      "outputs": []
    },
    {
      "cell_type": "code",
      "metadata": {
        "id": "DLYwXEMZeHDu"
      },
      "source": [
        "## Save as new table to see whole data\r\n",
        "df_price_NA_check.to_csv('df_price_NA_check.csv',sep=',')"
      ],
      "execution_count": null,
      "outputs": []
    },
    {
      "cell_type": "code",
      "metadata": {
        "id": "8tm1NIip_75m"
      },
      "source": [
        "## there are 2 option to handle missing data\r\n",
        "# option 1 = eliminate data point that contain missing values (not recommended as you might missed important data for other attribute)\r\n",
        "# option 2 = substitue missing value with avg value of the attribute\r\n",
        "\r\n",
        "dfnew_price = df_price.fillna(df_price.mean())"
      ],
      "execution_count": null,
      "outputs": []
    },
    {
      "cell_type": "code",
      "metadata": {
        "id": "2z_NpGk0AiGa"
      },
      "source": [
        "## check for missing values in dataset\r\n",
        "dfnew_price.isna() "
      ],
      "execution_count": null,
      "outputs": []
    },
    {
      "cell_type": "code",
      "metadata": {
        "id": "e7SddHUVAsYq"
      },
      "source": [
        "## see new dataset after substitue missing values\r\n",
        "dfnew_price"
      ],
      "execution_count": null,
      "outputs": []
    },
    {
      "cell_type": "markdown",
      "metadata": {
        "id": "u8frkpZEBD4E"
      },
      "source": [
        "##### Data Distribution"
      ]
    },
    {
      "cell_type": "code",
      "metadata": {
        "id": "iH4m29CyBAyU"
      },
      "source": [
        "## see distribution of avg price\r\n",
        "import seaborn as sns\r\n",
        "f, ax = plt.subplots(nrows=1, ncols=2, figsize=(18, 6))\r\n",
        "\r\n",
        "# distribution plot\r\n",
        "sns.distplot(dfnew_price.AveragePrice, ax=ax[0])\r\n",
        "\r\n",
        "# box plot\r\n",
        "sns.boxplot(dfnew_price.AveragePrice, ax=ax[1])\r\n",
        "\r\n"
      ],
      "execution_count": null,
      "outputs": []
    },
    {
      "cell_type": "code",
      "metadata": {
        "id": "2e1K9auYC0Dk"
      },
      "source": [
        "## see probability distribution of avg price\r\n",
        "f, ax = plt.subplots(nrows=1, ncols=1, figsize=(12, 6))\r\n",
        "from scipy import stats\r\n",
        "stats.probplot(dfnew_price['AveragePrice'], plot=ax)\r\n",
        "plt.show()"
      ],
      "execution_count": null,
      "outputs": []
    },
    {
      "cell_type": "code",
      "metadata": {
        "id": "fSXJtlqKDQRz"
      },
      "source": [
        ""
      ],
      "execution_count": null,
      "outputs": []
    }
  ]
}