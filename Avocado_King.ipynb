{
  "nbformat": 4,
  "nbformat_minor": 0,
  "metadata": {
    "colab": {
      "name": "Avocado_King.ipynb",
      "provenance": [],
      "authorship_tag": "ABX9TyNRjCH7rSeKxPhXzG0M0xOA",
      "include_colab_link": true
    },
    "kernelspec": {
      "name": "python3",
      "display_name": "Python 3"
    }
  },
  "cells": [
    {
      "cell_type": "markdown",
      "metadata": {
        "id": "view-in-github",
        "colab_type": "text"
      },
      "source": [
        "<a href=\"https://colab.research.google.com/github/irfixq/Avocado_King/blob/main/Avocado_King.ipynb\" target=\"_parent\"><img src=\"https://colab.research.google.com/assets/colab-badge.svg\" alt=\"Open In Colab\"/></a>"
      ]
    },
    {
      "cell_type": "markdown",
      "metadata": {
        "id": "3N37HxWnw2Ln"
      },
      "source": [
        "# Avocado King - Avocado Price & Sales Prediction"
      ]
    },
    {
      "cell_type": "markdown",
      "metadata": {
        "id": "sZmttJ6Zb4Tt"
      },
      "source": [
        "## System Configuration"
      ]
    },
    {
      "cell_type": "code",
      "metadata": {
        "colab": {
          "base_uri": "https://localhost:8080/"
        },
        "id": "S_LgmTIRwhSn",
        "outputId": "34279e8d-cb4f-47b8-c914-d127fcc6422b"
      },
      "source": [
        "import sys #access to system parameters https://docs.python.org/3/library/sys.html\r\n",
        "\r\n",
        "import numpy as np # linear algebra\r\n",
        "\r\n",
        "import pandas as pd # data processing, CSV file I/O (e.g. pd.read_csv)\r\n",
        "\r\n",
        "import matplotlib # collection of functions for scientific and publication-ready visualization\r\n",
        "import matplotlib.pyplot as plt\r\n",
        "%matplotlib inline\r\n",
        "\r\n",
        "import seaborn as sns # visualizing distributions data\r\n",
        "from scipy import stats # visualizing probability distribution of statistical function\r\n",
        "\r\n",
        "import warnings # ignore warnings\r\n",
        "warnings.filterwarnings('ignore')\r\n",
        "\r\n",
        "from google.colab import data_table # to show full data table in multiple pages\r\n",
        "%load_ext google.colab.data_table\r\n",
        "pd.set_option('max_rows', 30000)"
      ],
      "execution_count": 21,
      "outputs": [
        {
          "output_type": "stream",
          "text": [
            "The google.colab.data_table extension is already loaded. To reload it, use:\n",
            "  %reload_ext google.colab.data_table\n"
          ],
          "name": "stdout"
        }
      ]
    },
    {
      "cell_type": "code",
      "metadata": {
        "colab": {
          "base_uri": "https://localhost:8080/"
        },
        "id": "daJsfghPbscM",
        "outputId": "369b8455-d954-4171-d1e5-f8970b6fbb45"
      },
      "source": [
        "## Check system and python dependencies version\r\n",
        "print(\"Python version: {}\". format(sys.version))\r\n",
        "print(\"NumPy version: {}\". format(np.__version__))\r\n",
        "print(\"pandas version: {}\". format(pd.__version__))\r\n",
        "print(\"matplotlib version: {}\". format(matplotlib.__version__))\r\n"
      ],
      "execution_count": 2,
      "outputs": [
        {
          "output_type": "stream",
          "text": [
            "Python version: 3.6.9 (default, Oct  8 2020, 12:12:24) \n",
            "[GCC 8.4.0]\n",
            "NumPy version: 1.19.5\n",
            "pandas version: 1.1.5\n",
            "matplotlib version: 3.2.2\n"
          ],
          "name": "stdout"
        }
      ]
    },
    {
      "cell_type": "markdown",
      "metadata": {
        "id": "8OYOXbyezrvc"
      },
      "source": [
        "There are 2 options to get the data, either from GitHub or Google Drive.\r\n",
        "In this case, I prefer to use Git Clone since it will be easier for user to access the repo instead of loading everything into their Google Drive or local."
      ]
    },
    {
      "cell_type": "code",
      "metadata": {
        "colab": {
          "base_uri": "https://localhost:8080/"
        },
        "id": "flmH4nz0zgkI",
        "outputId": "288656e2-b584-4f89-89e9-f0c21bb8879a"
      },
      "source": [
        "## Clone repo from GitHub\r\n",
        "! git clone 'https://github.com/irfixq/Avocado_King'"
      ],
      "execution_count": 3,
      "outputs": [
        {
          "output_type": "stream",
          "text": [
            "Cloning into 'Avocado_King'...\n",
            "remote: Enumerating objects: 47, done.\u001b[K\n",
            "remote: Counting objects: 100% (47/47), done.\u001b[K\n",
            "remote: Compressing objects: 100% (47/47), done.\u001b[K\n",
            "remote: Total 47 (delta 23), reused 0 (delta 0), pack-reused 0\u001b[K\n",
            "Unpacking objects: 100% (47/47), done.\n"
          ],
          "name": "stdout"
        }
      ]
    },
    {
      "cell_type": "code",
      "metadata": {
        "id": "wBSvyvrexLww"
      },
      "source": [
        "## Mount Google Drive to get data\r\n",
        "## make sure you uploaded the folder into your Google Drive first\r\n",
        "\r\n",
        "#from google.colab import drive \r\n",
        "#drive.mount('/content/drive')"
      ],
      "execution_count": null,
      "outputs": []
    },
    {
      "cell_type": "code",
      "metadata": {
        "colab": {
          "base_uri": "https://localhost:8080/"
        },
        "id": "KJ188A0N0bNZ",
        "outputId": "dd77cd13-4487-4e03-83a9-267749d5a07a"
      },
      "source": [
        "## get working directory\r\n",
        "! pwd\r\n",
        "\r\n",
        "## list all folders in working directory\r\n",
        "! ls"
      ],
      "execution_count": 4,
      "outputs": [
        {
          "output_type": "stream",
          "text": [
            "/content\n",
            "Avocado_King  sample_data\n"
          ],
          "name": "stdout"
        }
      ]
    },
    {
      "cell_type": "code",
      "metadata": {
        "id": "eVhfHnGoxzZe"
      },
      "source": [
        "## change working directory to github folder\r\n",
        "import os\r\n",
        "os.chdir('/content/Avocado_King')\r\n"
      ],
      "execution_count": 5,
      "outputs": []
    },
    {
      "cell_type": "code",
      "metadata": {
        "colab": {
          "base_uri": "https://localhost:8080/"
        },
        "id": "Xo7MTdcj1x2G",
        "outputId": "c9ce07b0-8b40-43d5-ba1a-080eed2c3602"
      },
      "source": [
        "## check working directory after change path\r\n",
        "! pwd\r\n",
        "! ls"
      ],
      "execution_count": 6,
      "outputs": [
        {
          "output_type": "stream",
          "text": [
            "/content/Avocado_King\n",
            "Avocado_King.ipynb     feature-explanations.xlsx  price-and-sales-data.csv\n",
            "dfnew_price.csv        google-data.csv\t\t  README.md\n",
            "df_price_NA_check.csv  outliers.csv\n"
          ],
          "name": "stdout"
        }
      ]
    },
    {
      "cell_type": "markdown",
      "metadata": {
        "id": "MQ-yd4G3w0ID"
      },
      "source": [
        "## Data Pre-Processing\r\n",
        "\r\n",
        "1. Data pre-processing for price and sales data\r\n",
        "> * Read dataset  as pandas dataframe\r\n",
        "> * Check for df dimension (rows, columns)\r\n",
        "> * Check for column names and datatype\r\n",
        "> * Show raw dataset table\r\n",
        "> * Check for missing values\r\n",
        "> * Handle missing values (if any)\r\n",
        "\r\n",
        "\r\n",
        "2. Data Distribution\r\n",
        "3. Data pre-processing for Google search data\r\n",
        "\r\n"
      ]
    },
    {
      "cell_type": "markdown",
      "metadata": {
        "id": "SCRmV_Y8_2Sa"
      },
      "source": [
        "#### Data pre-processing for price and sales data"
      ]
    },
    {
      "cell_type": "code",
      "metadata": {
        "colab": {
          "base_uri": "https://localhost:8080/"
        },
        "id": "ae1To9FQw05Y",
        "outputId": "2e9f97b6-0ebf-4089-ba54-70cf4fbeeabd"
      },
      "source": [
        "## see the shape of the dataset (rows, columns)\r\n",
        "df_price = pd.read_csv('/content/Avocado_King/price-and-sales-data.csv')\r\n",
        "df_price.shape"
      ],
      "execution_count": 7,
      "outputs": [
        {
          "output_type": "execute_result",
          "data": {
            "text/plain": [
              "(25161, 13)"
            ]
          },
          "metadata": {
            "tags": []
          },
          "execution_count": 7
        }
      ]
    },
    {
      "cell_type": "code",
      "metadata": {
        "id": "ck_DDBfK21_-",
        "colab": {
          "base_uri": "https://localhost:8080/"
        },
        "outputId": "2c6904ea-26d1-4699-e182-4bf8f212fef6"
      },
      "source": [
        "## list all column names\r\n",
        "df_price.columns"
      ],
      "execution_count": 8,
      "outputs": [
        {
          "output_type": "execute_result",
          "data": {
            "text/plain": [
              "Index(['Date', 'AveragePrice', 'TotalVolume', '4046', '4225', '4770',\n",
              "       'TotalBags', 'SmallBags', 'LargeBags', 'XLargeBags', 'type', 'year',\n",
              "       'region'],\n",
              "      dtype='object')"
            ]
          },
          "metadata": {
            "tags": []
          },
          "execution_count": 8
        }
      ]
    },
    {
      "cell_type": "code",
      "metadata": {
        "id": "_DA953y8_ia-",
        "colab": {
          "base_uri": "https://localhost:8080/"
        },
        "outputId": "bfbeda02-e31a-4b1e-db27-7645a24935d0"
      },
      "source": [
        "## checking data type of each column\r\n",
        "df_price.dtypes"
      ],
      "execution_count": 9,
      "outputs": [
        {
          "output_type": "execute_result",
          "data": {
            "text/plain": [
              "Date             object\n",
              "AveragePrice    float64\n",
              "TotalVolume     float64\n",
              "4046            float64\n",
              "4225            float64\n",
              "4770            float64\n",
              "TotalBags       float64\n",
              "SmallBags       float64\n",
              "LargeBags       float64\n",
              "XLargeBags      float64\n",
              "type             object\n",
              "year              int64\n",
              "region           object\n",
              "dtype: object"
            ]
          },
          "metadata": {
            "tags": []
          },
          "execution_count": 9
        }
      ]
    },
    {
      "cell_type": "code",
      "metadata": {
        "colab": {
          "base_uri": "https://localhost:8080/",
          "height": 190
        },
        "id": "xy7qD4a92Qdg",
        "outputId": "8fe782aa-c198-4a96-c2bc-6b7573cf3282"
      },
      "source": [
        "## see the dataset\r\n",
        "df_price.head()"
      ],
      "execution_count": 10,
      "outputs": [
        {
          "output_type": "execute_result",
          "data": {
            "application/vnd.google.colaboratory.module+javascript": "\n      import \"https://ssl.gstatic.com/colaboratory/data_table/a6224c040fa35dcf/data_table.js\";\n\n      window.createDataTable({\n        data: [[{\n            'v': 0,\n            'f': \"0\",\n        },\n\"1/4/2015\",\n{\n            'v': 1.22,\n            'f': \"1.22\",\n        },\n{\n            'v': 40873.28,\n            'f': \"40873.28\",\n        },\n{\n            'v': 2819.5,\n            'f': \"2819.5\",\n        },\n{\n            'v': 28287.42,\n            'f': \"28287.42\",\n        },\n{\n            'v': 49.9,\n            'f': \"49.9\",\n        },\n{\n            'v': 9716.46,\n            'f': \"9716.46\",\n        },\n{\n            'v': 9186.93,\n            'f': \"9186.93\",\n        },\n{\n            'v': 529.53,\n            'f': \"529.53\",\n        },\n{\n            'v': 0.0,\n            'f': \"0.0\",\n        },\n\"conventional\",\n{\n            'v': 2015,\n            'f': \"2015\",\n        },\n\"Albany\"],\n [{\n            'v': 1,\n            'f': \"1\",\n        },\n\"1/4/2015\",\n{\n            'v': 1.0,\n            'f': \"1.0\",\n        },\n{\n            'v': 435021.49,\n            'f': \"435021.49\",\n        },\n{\n            'v': 364302.39,\n            'f': \"364302.39\",\n        },\n{\n            'v': 23821.16,\n            'f': \"23821.16\",\n        },\n{\n            'v': 82.15,\n            'f': \"82.15\",\n        },\n{\n            'v': 46815.79,\n            'f': \"46815.79\",\n        },\n{\n            'v': 16707.15,\n            'f': \"16707.15\",\n        },\n{\n            'v': 30108.64,\n            'f': \"30108.64\",\n        },\n{\n            'v': 0.0,\n            'f': \"0.0\",\n        },\n\"conventional\",\n{\n            'v': 2015,\n            'f': \"2015\",\n        },\n\"Atlanta\"],\n [{\n            'v': 2,\n            'f': \"2\",\n        },\n\"1/4/2015\",\n{\n            'v': NaN,\n            'f': \"NaN\",\n        },\n{\n            'v': 788025.06,\n            'f': \"788025.06\",\n        },\n{\n            'v': 53987.31,\n            'f': \"53987.31\",\n        },\n{\n            'v': 552906.04,\n            'f': \"552906.04\",\n        },\n{\n            'v': 39995.03,\n            'f': \"39995.03\",\n        },\n{\n            'v': 141136.68,\n            'f': \"141136.68\",\n        },\n{\n            'v': 137146.07,\n            'f': \"137146.07\",\n        },\n{\n            'v': 3990.61,\n            'f': \"3990.61\",\n        },\n{\n            'v': 0.0,\n            'f': \"0.0\",\n        },\n\"conventional\",\n{\n            'v': 2015,\n            'f': \"2015\",\n        },\n\"BaltimoreWashington\"],\n [{\n            'v': 3,\n            'f': \"3\",\n        },\n\"1/4/2015\",\n{\n            'v': 1.01,\n            'f': \"1.01\",\n        },\n{\n            'v': 80034.32,\n            'f': \"80034.32\",\n        },\n{\n            'v': 44562.12,\n            'f': \"44562.12\",\n        },\n{\n            'v': 24964.23,\n            'f': \"24964.23\",\n        },\n{\n            'v': 2752.35,\n            'f': \"2752.35\",\n        },\n{\n            'v': 7755.62,\n            'f': \"7755.62\",\n        },\n{\n            'v': 6064.3,\n            'f': \"6064.3\",\n        },\n{\n            'v': 1691.32,\n            'f': \"1691.32\",\n        },\n{\n            'v': 0.0,\n            'f': \"0.0\",\n        },\n\"conventional\",\n{\n            'v': 2015,\n            'f': \"2015\",\n        },\n\"Boise\"],\n [{\n            'v': 4,\n            'f': \"4\",\n        },\n\"1/4/2015\",\n{\n            'v': 1.02,\n            'f': \"1.02\",\n        },\n{\n            'v': 491738.0,\n            'f': \"491738.0\",\n        },\n{\n            'v': 7193.87,\n            'f': \"7193.87\",\n        },\n{\n            'v': 396752.18,\n            'f': \"396752.18\",\n        },\n{\n            'v': 128.82,\n            'f': \"128.82\",\n        },\n{\n            'v': 87663.13,\n            'f': \"87663.13\",\n        },\n{\n            'v': 87406.84,\n            'f': \"87406.84\",\n        },\n{\n            'v': 256.29,\n            'f': \"256.29\",\n        },\n{\n            'v': 0.0,\n            'f': \"0.0\",\n        },\n\"conventional\",\n{\n            'v': 2015,\n            'f': \"2015\",\n        },\n\"Boston\"]],\n        columns: [[\"number\", \"index\"], [\"string\", \"Date\"], [\"number\", \"AveragePrice\"], [\"number\", \"TotalVolume\"], [\"number\", \"4046\"], [\"number\", \"4225\"], [\"number\", \"4770\"], [\"number\", \"TotalBags\"], [\"number\", \"SmallBags\"], [\"number\", \"LargeBags\"], [\"number\", \"XLargeBags\"], [\"string\", \"type\"], [\"number\", \"year\"], [\"string\", \"region\"]],\n        columnOptions: [{\"width\": \"1px\", \"className\": \"index_column\"}],\n        rowsPerPage: 25,\n        helpUrl: \"https://colab.research.google.com/notebooks/data_table.ipynb\",\n        suppressOutputScrolling: true,\n        minimumWidth: undefined,\n      });\n    ",
            "text/html": [
              "<div>\n",
              "<style scoped>\n",
              "    .dataframe tbody tr th:only-of-type {\n",
              "        vertical-align: middle;\n",
              "    }\n",
              "\n",
              "    .dataframe tbody tr th {\n",
              "        vertical-align: top;\n",
              "    }\n",
              "\n",
              "    .dataframe thead th {\n",
              "        text-align: right;\n",
              "    }\n",
              "</style>\n",
              "<table border=\"1\" class=\"dataframe\">\n",
              "  <thead>\n",
              "    <tr style=\"text-align: right;\">\n",
              "      <th></th>\n",
              "      <th>Date</th>\n",
              "      <th>AveragePrice</th>\n",
              "      <th>TotalVolume</th>\n",
              "      <th>4046</th>\n",
              "      <th>4225</th>\n",
              "      <th>4770</th>\n",
              "      <th>TotalBags</th>\n",
              "      <th>SmallBags</th>\n",
              "      <th>LargeBags</th>\n",
              "      <th>XLargeBags</th>\n",
              "      <th>type</th>\n",
              "      <th>year</th>\n",
              "      <th>region</th>\n",
              "    </tr>\n",
              "  </thead>\n",
              "  <tbody>\n",
              "    <tr>\n",
              "      <th>0</th>\n",
              "      <td>1/4/2015</td>\n",
              "      <td>1.22</td>\n",
              "      <td>40873.28</td>\n",
              "      <td>2819.50</td>\n",
              "      <td>28287.42</td>\n",
              "      <td>49.90</td>\n",
              "      <td>9716.46</td>\n",
              "      <td>9186.93</td>\n",
              "      <td>529.53</td>\n",
              "      <td>0.0</td>\n",
              "      <td>conventional</td>\n",
              "      <td>2015</td>\n",
              "      <td>Albany</td>\n",
              "    </tr>\n",
              "    <tr>\n",
              "      <th>1</th>\n",
              "      <td>1/4/2015</td>\n",
              "      <td>1.00</td>\n",
              "      <td>435021.49</td>\n",
              "      <td>364302.39</td>\n",
              "      <td>23821.16</td>\n",
              "      <td>82.15</td>\n",
              "      <td>46815.79</td>\n",
              "      <td>16707.15</td>\n",
              "      <td>30108.64</td>\n",
              "      <td>0.0</td>\n",
              "      <td>conventional</td>\n",
              "      <td>2015</td>\n",
              "      <td>Atlanta</td>\n",
              "    </tr>\n",
              "    <tr>\n",
              "      <th>2</th>\n",
              "      <td>1/4/2015</td>\n",
              "      <td>NaN</td>\n",
              "      <td>788025.06</td>\n",
              "      <td>53987.31</td>\n",
              "      <td>552906.04</td>\n",
              "      <td>39995.03</td>\n",
              "      <td>141136.68</td>\n",
              "      <td>137146.07</td>\n",
              "      <td>3990.61</td>\n",
              "      <td>0.0</td>\n",
              "      <td>conventional</td>\n",
              "      <td>2015</td>\n",
              "      <td>BaltimoreWashington</td>\n",
              "    </tr>\n",
              "    <tr>\n",
              "      <th>3</th>\n",
              "      <td>1/4/2015</td>\n",
              "      <td>1.01</td>\n",
              "      <td>80034.32</td>\n",
              "      <td>44562.12</td>\n",
              "      <td>24964.23</td>\n",
              "      <td>2752.35</td>\n",
              "      <td>7755.62</td>\n",
              "      <td>6064.30</td>\n",
              "      <td>1691.32</td>\n",
              "      <td>0.0</td>\n",
              "      <td>conventional</td>\n",
              "      <td>2015</td>\n",
              "      <td>Boise</td>\n",
              "    </tr>\n",
              "    <tr>\n",
              "      <th>4</th>\n",
              "      <td>1/4/2015</td>\n",
              "      <td>1.02</td>\n",
              "      <td>491738.00</td>\n",
              "      <td>7193.87</td>\n",
              "      <td>396752.18</td>\n",
              "      <td>128.82</td>\n",
              "      <td>87663.13</td>\n",
              "      <td>87406.84</td>\n",
              "      <td>256.29</td>\n",
              "      <td>0.0</td>\n",
              "      <td>conventional</td>\n",
              "      <td>2015</td>\n",
              "      <td>Boston</td>\n",
              "    </tr>\n",
              "  </tbody>\n",
              "</table>\n",
              "</div>"
            ],
            "text/plain": [
              "       Date  AveragePrice  TotalVolume  ...          type  year               region\n",
              "0  1/4/2015          1.22     40873.28  ...  conventional  2015               Albany\n",
              "1  1/4/2015          1.00    435021.49  ...  conventional  2015              Atlanta\n",
              "2  1/4/2015           NaN    788025.06  ...  conventional  2015  BaltimoreWashington\n",
              "3  1/4/2015          1.01     80034.32  ...  conventional  2015                Boise\n",
              "4  1/4/2015          1.02    491738.00  ...  conventional  2015               Boston\n",
              "\n",
              "[5 rows x 13 columns]"
            ]
          },
          "metadata": {
            "tags": []
          },
          "execution_count": 10
        }
      ]
    },
    {
      "cell_type": "code",
      "metadata": {
        "id": "ej5WC2SK-tmd",
        "colab": {
          "base_uri": "https://localhost:8080/"
        },
        "outputId": "3e8d76f7-fba8-4e07-d207-177d2ca98f9a"
      },
      "source": [
        "## check for missing values in dataset\n",
        "print(f\"Missing data:{df_price.isna().sum(axis=0).any()}\") # TRUE represents the dataset has missing data"
      ],
      "execution_count": 11,
      "outputs": [
        {
          "output_type": "stream",
          "text": [
            "Missing data:True\n"
          ],
          "name": "stdout"
        }
      ]
    },
    {
      "cell_type": "code",
      "metadata": {
        "id": "EERQLxqv43SE",
        "outputId": "6af20095-ac14-47b1-af68-913aaae042fb",
        "colab": {
          "base_uri": "https://localhost:8080/",
          "height": 343
        }
      },
      "source": [
        "## see distribution of missing values in heat map\r\n",
        "sns.heatmap(df_price.isna())"
      ],
      "execution_count": 23,
      "outputs": [
        {
          "output_type": "execute_result",
          "data": {
            "text/plain": [
              "<matplotlib.axes._subplots.AxesSubplot at 0x7f28b391a390>"
            ]
          },
          "metadata": {
            "tags": []
          },
          "execution_count": 23
        },
        {
          "output_type": "display_data",
          "data": {
            "image/png": "[encoded data removed]",
            "text/plain": [
              "<Figure size 432x288 with 2 Axes>"
            ]
          },
          "metadata": {
            "tags": [],
            "needs_background": "light"
          }
        }
      ]
    },
    {
      "cell_type": "markdown",
      "metadata": {
        "id": "4XMsz6SD5RxJ"
      },
      "source": [
        "Based on heatmap above, \r\n",
        "we have some missing values in our dataset"
      ]
    },
    {
      "cell_type": "code",
      "metadata": {
        "colab": {
          "base_uri": "https://localhost:8080/",
          "height": 292
        },
        "id": "iRq1tJ8zmiSN",
        "outputId": "930e03d5-7e07-48b6-9aec-9f1c2ebf5141"
      },
      "source": [
        "## See the missing data in dataset\r\n",
        "df_price_NA_check = df_price.isna()\r\n",
        "df_price_NA_check.head(10)"
      ],
      "execution_count": 13,
      "outputs": [
        {
          "output_type": "execute_result",
          "data": {
            "application/vnd.google.colaboratory.module+javascript": "\n      import \"https://ssl.gstatic.com/colaboratory/data_table/a6224c040fa35dcf/data_table.js\";\n\n      window.createDataTable({\n        data: [[{\n            'v': 0,\n            'f': \"0\",\n        },\nfalse,\nfalse,\nfalse,\nfalse,\nfalse,\nfalse,\nfalse,\nfalse,\nfalse,\nfalse,\nfalse,\nfalse,\nfalse],\n [{\n            'v': 1,\n            'f': \"1\",\n        },\nfalse,\nfalse,\nfalse,\nfalse,\nfalse,\nfalse,\nfalse,\nfalse,\nfalse,\nfalse,\nfalse,\nfalse,\nfalse],\n [{\n            'v': 2,\n            'f': \"2\",\n        },\nfalse,\ntrue,\nfalse,\nfalse,\nfalse,\nfalse,\nfalse,\nfalse,\nfalse,\nfalse,\nfalse,\nfalse,\nfalse],\n [{\n            'v': 3,\n            'f': \"3\",\n        },\nfalse,\nfalse,\nfalse,\nfalse,\nfalse,\nfalse,\nfalse,\nfalse,\nfalse,\nfalse,\nfalse,\nfalse,\nfalse],\n [{\n            'v': 4,\n            'f': \"4\",\n        },\nfalse,\nfalse,\nfalse,\nfalse,\nfalse,\nfalse,\nfalse,\nfalse,\nfalse,\nfalse,\nfalse,\nfalse,\nfalse],\n [{\n            'v': 5,\n            'f': \"5\",\n        },\nfalse,\nfalse,\nfalse,\nfalse,\nfalse,\nfalse,\nfalse,\nfalse,\nfalse,\nfalse,\nfalse,\nfalse,\nfalse],\n [{\n            'v': 6,\n            'f': \"6\",\n        },\nfalse,\nfalse,\nfalse,\nfalse,\nfalse,\nfalse,\nfalse,\nfalse,\nfalse,\nfalse,\nfalse,\nfalse,\nfalse],\n [{\n            'v': 7,\n            'f': \"7\",\n        },\nfalse,\nfalse,\nfalse,\nfalse,\nfalse,\nfalse,\nfalse,\ntrue,\ntrue,\nfalse,\nfalse,\nfalse,\nfalse],\n [{\n            'v': 8,\n            'f': \"8\",\n        },\nfalse,\nfalse,\nfalse,\nfalse,\nfalse,\nfalse,\nfalse,\nfalse,\nfalse,\nfalse,\nfalse,\nfalse,\nfalse],\n [{\n            'v': 9,\n            'f': \"9\",\n        },\nfalse,\nfalse,\nfalse,\nfalse,\nfalse,\nfalse,\ntrue,\nfalse,\nfalse,\nfalse,\nfalse,\nfalse,\nfalse]],\n        columns: [[\"number\", \"index\"], [\"string\", \"Date\"], [\"string\", \"AveragePrice\"], [\"string\", \"TotalVolume\"], [\"string\", \"4046\"], [\"string\", \"4225\"], [\"string\", \"4770\"], [\"string\", \"TotalBags\"], [\"string\", \"SmallBags\"], [\"string\", \"LargeBags\"], [\"string\", \"XLargeBags\"], [\"string\", \"type\"], [\"string\", \"year\"], [\"string\", \"region\"]],\n        columnOptions: [{\"width\": \"1px\", \"className\": \"index_column\"}],\n        rowsPerPage: 25,\n        helpUrl: \"https://colab.research.google.com/notebooks/data_table.ipynb\",\n        suppressOutputScrolling: true,\n        minimumWidth: undefined,\n      });\n    ",
            "text/html": [
              "<div>\n",
              "<style scoped>\n",
              "    .dataframe tbody tr th:only-of-type {\n",
              "        vertical-align: middle;\n",
              "    }\n",
              "\n",
              "    .dataframe tbody tr th {\n",
              "        vertical-align: top;\n",
              "    }\n",
              "\n",
              "    .dataframe thead th {\n",
              "        text-align: right;\n",
              "    }\n",
              "</style>\n",
              "<table border=\"1\" class=\"dataframe\">\n",
              "  <thead>\n",
              "    <tr style=\"text-align: right;\">\n",
              "      <th></th>\n",
              "      <th>Date</th>\n",
              "      <th>AveragePrice</th>\n",
              "      <th>TotalVolume</th>\n",
              "      <th>4046</th>\n",
              "      <th>4225</th>\n",
              "      <th>4770</th>\n",
              "      <th>TotalBags</th>\n",
              "      <th>SmallBags</th>\n",
              "      <th>LargeBags</th>\n",
              "      <th>XLargeBags</th>\n",
              "      <th>type</th>\n",
              "      <th>year</th>\n",
              "      <th>region</th>\n",
              "    </tr>\n",
              "  </thead>\n",
              "  <tbody>\n",
              "    <tr>\n",
              "      <th>0</th>\n",
              "      <td>False</td>\n",
              "      <td>False</td>\n",
              "      <td>False</td>\n",
              "      <td>False</td>\n",
              "      <td>False</td>\n",
              "      <td>False</td>\n",
              "      <td>False</td>\n",
              "      <td>False</td>\n",
              "      <td>False</td>\n",
              "      <td>False</td>\n",
              "      <td>False</td>\n",
              "      <td>False</td>\n",
              "      <td>False</td>\n",
              "    </tr>\n",
              "    <tr>\n",
              "      <th>1</th>\n",
              "      <td>False</td>\n",
              "      <td>False</td>\n",
              "      <td>False</td>\n",
              "      <td>False</td>\n",
              "      <td>False</td>\n",
              "      <td>False</td>\n",
              "      <td>False</td>\n",
              "      <td>False</td>\n",
              "      <td>False</td>\n",
              "      <td>False</td>\n",
              "      <td>False</td>\n",
              "      <td>False</td>\n",
              "      <td>False</td>\n",
              "    </tr>\n",
              "    <tr>\n",
              "      <th>2</th>\n",
              "      <td>False</td>\n",
              "      <td>True</td>\n",
              "      <td>False</td>\n",
              "      <td>False</td>\n",
              "      <td>False</td>\n",
              "      <td>False</td>\n",
              "      <td>False</td>\n",
              "      <td>False</td>\n",
              "      <td>False</td>\n",
              "      <td>False</td>\n",
              "      <td>False</td>\n",
              "      <td>False</td>\n",
              "      <td>False</td>\n",
              "    </tr>\n",
              "    <tr>\n",
              "      <th>3</th>\n",
              "      <td>False</td>\n",
              "      <td>False</td>\n",
              "      <td>False</td>\n",
              "      <td>False</td>\n",
              "      <td>False</td>\n",
              "      <td>False</td>\n",
              "      <td>False</td>\n",
              "      <td>False</td>\n",
              "      <td>False</td>\n",
              "      <td>False</td>\n",
              "      <td>False</td>\n",
              "      <td>False</td>\n",
              "      <td>False</td>\n",
              "    </tr>\n",
              "    <tr>\n",
              "      <th>4</th>\n",
              "      <td>False</td>\n",
              "      <td>False</td>\n",
              "      <td>False</td>\n",
              "      <td>False</td>\n",
              "      <td>False</td>\n",
              "      <td>False</td>\n",
              "      <td>False</td>\n",
              "      <td>False</td>\n",
              "      <td>False</td>\n",
              "      <td>False</td>\n",
              "      <td>False</td>\n",
              "      <td>False</td>\n",
              "      <td>False</td>\n",
              "    </tr>\n",
              "    <tr>\n",
              "      <th>5</th>\n",
              "      <td>False</td>\n",
              "      <td>False</td>\n",
              "      <td>False</td>\n",
              "      <td>False</td>\n",
              "      <td>False</td>\n",
              "      <td>False</td>\n",
              "      <td>False</td>\n",
              "      <td>False</td>\n",
              "      <td>False</td>\n",
              "      <td>False</td>\n",
              "      <td>False</td>\n",
              "      <td>False</td>\n",
              "      <td>False</td>\n",
              "    </tr>\n",
              "    <tr>\n",
              "      <th>6</th>\n",
              "      <td>False</td>\n",
              "      <td>False</td>\n",
              "      <td>False</td>\n",
              "      <td>False</td>\n",
              "      <td>False</td>\n",
              "      <td>False</td>\n",
              "      <td>False</td>\n",
              "      <td>False</td>\n",
              "      <td>False</td>\n",
              "      <td>False</td>\n",
              "      <td>False</td>\n",
              "      <td>False</td>\n",
              "      <td>False</td>\n",
              "    </tr>\n",
              "    <tr>\n",
              "      <th>7</th>\n",
              "      <td>False</td>\n",
              "      <td>False</td>\n",
              "      <td>False</td>\n",
              "      <td>False</td>\n",
              "      <td>False</td>\n",
              "      <td>False</td>\n",
              "      <td>False</td>\n",
              "      <td>True</td>\n",
              "      <td>True</td>\n",
              "      <td>False</td>\n",
              "      <td>False</td>\n",
              "      <td>False</td>\n",
              "      <td>False</td>\n",
              "    </tr>\n",
              "    <tr>\n",
              "      <th>8</th>\n",
              "      <td>False</td>\n",
              "      <td>False</td>\n",
              "      <td>False</td>\n",
              "      <td>False</td>\n",
              "      <td>False</td>\n",
              "      <td>False</td>\n",
              "      <td>False</td>\n",
              "      <td>False</td>\n",
              "      <td>False</td>\n",
              "      <td>False</td>\n",
              "      <td>False</td>\n",
              "      <td>False</td>\n",
              "      <td>False</td>\n",
              "    </tr>\n",
              "    <tr>\n",
              "      <th>9</th>\n",
              "      <td>False</td>\n",
              "      <td>False</td>\n",
              "      <td>False</td>\n",
              "      <td>False</td>\n",
              "      <td>False</td>\n",
              "      <td>False</td>\n",
              "      <td>True</td>\n",
              "      <td>False</td>\n",
              "      <td>False</td>\n",
              "      <td>False</td>\n",
              "      <td>False</td>\n",
              "      <td>False</td>\n",
              "      <td>False</td>\n",
              "    </tr>\n",
              "  </tbody>\n",
              "</table>\n",
              "</div>"
            ],
            "text/plain": [
              "    Date  AveragePrice  TotalVolume   4046  ...  XLargeBags   type   year  region\n",
              "0  False         False        False  False  ...       False  False  False   False\n",
              "1  False         False        False  False  ...       False  False  False   False\n",
              "2  False          True        False  False  ...       False  False  False   False\n",
              "3  False         False        False  False  ...       False  False  False   False\n",
              "4  False         False        False  False  ...       False  False  False   False\n",
              "5  False         False        False  False  ...       False  False  False   False\n",
              "6  False         False        False  False  ...       False  False  False   False\n",
              "7  False         False        False  False  ...       False  False  False   False\n",
              "8  False         False        False  False  ...       False  False  False   False\n",
              "9  False         False        False  False  ...       False  False  False   False\n",
              "\n",
              "[10 rows x 13 columns]"
            ]
          },
          "metadata": {
            "tags": []
          },
          "execution_count": 13
        }
      ]
    },
    {
      "cell_type": "code",
      "metadata": {
        "id": "DLYwXEMZeHDu"
      },
      "source": [
        "## Save as new .csv table to see whole data / for download\r\n",
        "df_price_NA_check.to_csv('df_price_NA_check.csv',sep=',')"
      ],
      "execution_count": 14,
      "outputs": []
    },
    {
      "cell_type": "code",
      "metadata": {
        "id": "8tm1NIip_75m",
        "colab": {
          "base_uri": "https://localhost:8080/",
          "height": 311
        },
        "outputId": "83d36668-ffe4-436d-fb17-80a99525b9bd"
      },
      "source": [
        "## there are 2 option to handle missing data\r\n",
        "# option 1 = eliminate data point that contain missing values (not recommended as you might missed important data for other attribute)\r\n",
        "# option 2 = substitue missing value with avg value of the attribute\r\n",
        "\r\n",
        "dfnew_price = df_price.fillna(df_price.mean())\r\n",
        "dfnew_price.head(10)"
      ],
      "execution_count": 16,
      "outputs": [
        {
          "output_type": "execute_result",
          "data": {
            "application/vnd.google.colaboratory.module+javascript": "\n      import \"https://ssl.gstatic.com/colaboratory/data_table/a6224c040fa35dcf/data_table.js\";\n\n      window.createDataTable({\n        data: [[{\n            'v': 0,\n            'f': \"0\",\n        },\n\"1/4/2015\",\n{\n            'v': 1.22,\n            'f': \"1.22\",\n        },\n{\n            'v': 40873.28,\n            'f': \"40873.28\",\n        },\n{\n            'v': 2819.5,\n            'f': \"2819.5\",\n        },\n{\n            'v': 28287.42,\n            'f': \"28287.42\",\n        },\n{\n            'v': 49.9,\n            'f': \"49.9\",\n        },\n{\n            'v': 9716.46,\n            'f': \"9716.46\",\n        },\n{\n            'v': 9186.93,\n            'f': \"9186.93\",\n        },\n{\n            'v': 529.53,\n            'f': \"529.53\",\n        },\n{\n            'v': 0.0,\n            'f': \"0.0\",\n        },\n\"conventional\",\n{\n            'v': 2015,\n            'f': \"2015\",\n        },\n\"Albany\"],\n [{\n            'v': 1,\n            'f': \"1\",\n        },\n\"1/4/2015\",\n{\n            'v': 1.0,\n            'f': \"1.0\",\n        },\n{\n            'v': 435021.49,\n            'f': \"435021.49\",\n        },\n{\n            'v': 364302.39,\n            'f': \"364302.39\",\n        },\n{\n            'v': 23821.16,\n            'f': \"23821.16\",\n        },\n{\n            'v': 82.15,\n            'f': \"82.15\",\n        },\n{\n            'v': 46815.79,\n            'f': \"46815.79\",\n        },\n{\n            'v': 16707.15,\n            'f': \"16707.15\",\n        },\n{\n            'v': 30108.64,\n            'f': \"30108.64\",\n        },\n{\n            'v': 0.0,\n            'f': \"0.0\",\n        },\n\"conventional\",\n{\n            'v': 2015,\n            'f': \"2015\",\n        },\n\"Atlanta\"],\n [{\n            'v': 2,\n            'f': \"2\",\n        },\n\"1/4/2015\",\n{\n            'v': 1.396017972711152,\n            'f': \"1.396017972711152\",\n        },\n{\n            'v': 788025.06,\n            'f': \"788025.06\",\n        },\n{\n            'v': 53987.31,\n            'f': \"53987.31\",\n        },\n{\n            'v': 552906.04,\n            'f': \"552906.04\",\n        },\n{\n            'v': 39995.03,\n            'f': \"39995.03\",\n        },\n{\n            'v': 141136.68,\n            'f': \"141136.68\",\n        },\n{\n            'v': 137146.07,\n            'f': \"137146.07\",\n        },\n{\n            'v': 3990.61,\n            'f': \"3990.61\",\n        },\n{\n            'v': 0.0,\n            'f': \"0.0\",\n        },\n\"conventional\",\n{\n            'v': 2015,\n            'f': \"2015\",\n        },\n\"BaltimoreWashington\"],\n [{\n            'v': 3,\n            'f': \"3\",\n        },\n\"1/4/2015\",\n{\n            'v': 1.01,\n            'f': \"1.01\",\n        },\n{\n            'v': 80034.32,\n            'f': \"80034.32\",\n        },\n{\n            'v': 44562.12,\n            'f': \"44562.12\",\n        },\n{\n            'v': 24964.23,\n            'f': \"24964.23\",\n        },\n{\n            'v': 2752.35,\n            'f': \"2752.35\",\n        },\n{\n            'v': 7755.62,\n            'f': \"7755.62\",\n        },\n{\n            'v': 6064.3,\n            'f': \"6064.3\",\n        },\n{\n            'v': 1691.32,\n            'f': \"1691.32\",\n        },\n{\n            'v': 0.0,\n            'f': \"0.0\",\n        },\n\"conventional\",\n{\n            'v': 2015,\n            'f': \"2015\",\n        },\n\"Boise\"],\n [{\n            'v': 4,\n            'f': \"4\",\n        },\n\"1/4/2015\",\n{\n            'v': 1.02,\n            'f': \"1.02\",\n        },\n{\n            'v': 491738.0,\n            'f': \"491738.0\",\n        },\n{\n            'v': 7193.87,\n            'f': \"7193.87\",\n        },\n{\n            'v': 396752.18,\n            'f': \"396752.18\",\n        },\n{\n            'v': 128.82,\n            'f': \"128.82\",\n        },\n{\n            'v': 87663.13,\n            'f': \"87663.13\",\n        },\n{\n            'v': 87406.84,\n            'f': \"87406.84\",\n        },\n{\n            'v': 256.29,\n            'f': \"256.29\",\n        },\n{\n            'v': 0.0,\n            'f': \"0.0\",\n        },\n\"conventional\",\n{\n            'v': 2015,\n            'f': \"2015\",\n        },\n\"Boston\"],\n [{\n            'v': 5,\n            'f': \"5\",\n        },\n\"1/4/2015\",\n{\n            'v': 1.4,\n            'f': \"1.4\",\n        },\n{\n            'v': 116253.44,\n            'f': \"116253.44\",\n        },\n{\n            'v': 3267.97,\n            'f': \"3267.97\",\n        },\n{\n            'v': 55693.04,\n            'f': \"55693.04\",\n        },\n{\n            'v': 109.55,\n            'f': \"109.55\",\n        },\n{\n            'v': 57182.88,\n            'f': \"57182.88\",\n        },\n{\n            'v': 57182.88,\n            'f': \"57182.88\",\n        },\n{\n            'v': 0.0,\n            'f': \"0.0\",\n        },\n{\n            'v': 0.0,\n            'f': \"0.0\",\n        },\n\"conventional\",\n{\n            'v': 2015,\n            'f': \"2015\",\n        },\n\"BuffaloRochester\"],\n [{\n            'v': 6,\n            'f': \"6\",\n        },\n\"1/4/2015\",\n{\n            'v': 0.93,\n            'f': \"0.93\",\n        },\n{\n            'v': 5777334.9,\n            'f': \"5777334.9\",\n        },\n{\n            'v': 2843648.26,\n            'f': \"2843648.26\",\n        },\n{\n            'v': 2267755.26,\n            'f': \"2267755.26\",\n        },\n{\n            'v': 137479.64,\n            'f': \"137479.64\",\n        },\n{\n            'v': 528451.74,\n            'f': \"528451.74\",\n        },\n{\n            'v': 477193.38,\n            'f': \"477193.38\",\n        },\n{\n            'v': 47882.56,\n            'f': \"47882.56\",\n        },\n{\n            'v': 3375.8,\n            'f': \"3375.8\",\n        },\n\"conventional\",\n{\n            'v': 2015,\n            'f': \"2015\",\n        },\n\"California\"],\n [{\n            'v': 7,\n            'f': \"7\",\n        },\n\"1/4/2015\",\n{\n            'v': 1.19,\n            'f': \"1.19\",\n        },\n{\n            'v': 166006.29,\n            'f': \"166006.29\",\n        },\n{\n            'v': 29419.03,\n            'f': \"29419.03\",\n        },\n{\n            'v': 47220.75,\n            'f': \"47220.75\",\n        },\n{\n            'v': 38568.95,\n            'f': \"38568.95\",\n        },\n{\n            'v': 50797.56,\n            'f': \"50797.56\",\n        },\n{\n            'v': 212419.88481983036,\n            'f': \"212419.88481983036\",\n        },\n{\n            'v': 75899.23798835443,\n            'f': \"75899.23798835443\",\n        },\n{\n            'v': 0.0,\n            'f': \"0.0\",\n        },\n\"conventional\",\n{\n            'v': 2015,\n            'f': \"2015\",\n        },\n\"Charlotte\"],\n [{\n            'v': 8,\n            'f': \"8\",\n        },\n\"1/4/2015\",\n{\n            'v': 1.11,\n            'f': \"1.11\",\n        },\n{\n            'v': 783068.03,\n            'f': \"783068.03\",\n        },\n{\n            'v': 30270.26,\n            'f': \"30270.26\",\n        },\n{\n            'v': 550752.19,\n            'f': \"550752.19\",\n        },\n{\n            'v': 124506.1,\n            'f': \"124506.1\",\n        },\n{\n            'v': 77539.48,\n            'f': \"77539.48\",\n        },\n{\n            'v': 72888.46,\n            'f': \"72888.46\",\n        },\n{\n            'v': 4651.02,\n            'f': \"4651.02\",\n        },\n{\n            'v': 0.0,\n            'f': \"0.0\",\n        },\n\"conventional\",\n{\n            'v': 2015,\n            'f': \"2015\",\n        },\n\"Chicago\"],\n [{\n            'v': 9,\n            'f': \"9\",\n        },\n\"1/4/2015\",\n{\n            'v': 0.88,\n            'f': \"0.88\",\n        },\n{\n            'v': 228569.58,\n            'f': \"228569.58\",\n        },\n{\n            'v': 3274.3,\n            'f': \"3274.3\",\n        },\n{\n            'v': 168764.78,\n            'f': \"168764.78\",\n        },\n{\n            'v': 1447.06,\n            'f': \"1447.06\",\n        },\n{\n            'v': 295043.20947097597,\n            'f': \"295043.20947097597\",\n        },\n{\n            'v': 17525.31,\n            'f': \"17525.31\",\n        },\n{\n            'v': 37445.46,\n            'f': \"37445.46\",\n        },\n{\n            'v': 112.67,\n            'f': \"112.67\",\n        },\n\"conventional\",\n{\n            'v': 2015,\n            'f': \"2015\",\n        },\n\"CincinnatiDayton\"]],\n        columns: [[\"number\", \"index\"], [\"string\", \"Date\"], [\"number\", \"AveragePrice\"], [\"number\", \"TotalVolume\"], [\"number\", \"4046\"], [\"number\", \"4225\"], [\"number\", \"4770\"], [\"number\", \"TotalBags\"], [\"number\", \"SmallBags\"], [\"number\", \"LargeBags\"], [\"number\", \"XLargeBags\"], [\"string\", \"type\"], [\"number\", \"year\"], [\"string\", \"region\"]],\n        columnOptions: [{\"width\": \"1px\", \"className\": \"index_column\"}],\n        rowsPerPage: 25,\n        helpUrl: \"https://colab.research.google.com/notebooks/data_table.ipynb\",\n        suppressOutputScrolling: true,\n        minimumWidth: undefined,\n      });\n    ",
            "text/html": [
              "<div>\n",
              "<style scoped>\n",
              "    .dataframe tbody tr th:only-of-type {\n",
              "        vertical-align: middle;\n",
              "    }\n",
              "\n",
              "    .dataframe tbody tr th {\n",
              "        vertical-align: top;\n",
              "    }\n",
              "\n",
              "    .dataframe thead th {\n",
              "        text-align: right;\n",
              "    }\n",
              "</style>\n",
              "<table border=\"1\" class=\"dataframe\">\n",
              "  <thead>\n",
              "    <tr style=\"text-align: right;\">\n",
              "      <th></th>\n",
              "      <th>Date</th>\n",
              "      <th>AveragePrice</th>\n",
              "      <th>TotalVolume</th>\n",
              "      <th>4046</th>\n",
              "      <th>4225</th>\n",
              "      <th>4770</th>\n",
              "      <th>TotalBags</th>\n",
              "      <th>SmallBags</th>\n",
              "      <th>LargeBags</th>\n",
              "      <th>XLargeBags</th>\n",
              "      <th>type</th>\n",
              "      <th>year</th>\n",
              "      <th>region</th>\n",
              "    </tr>\n",
              "  </thead>\n",
              "  <tbody>\n",
              "    <tr>\n",
              "      <th>0</th>\n",
              "      <td>1/4/2015</td>\n",
              "      <td>1.220000</td>\n",
              "      <td>40873.28</td>\n",
              "      <td>2819.50</td>\n",
              "      <td>28287.42</td>\n",
              "      <td>49.90</td>\n",
              "      <td>9716.460000</td>\n",
              "      <td>9186.93000</td>\n",
              "      <td>529.530000</td>\n",
              "      <td>0.00</td>\n",
              "      <td>conventional</td>\n",
              "      <td>2015</td>\n",
              "      <td>Albany</td>\n",
              "    </tr>\n",
              "    <tr>\n",
              "      <th>1</th>\n",
              "      <td>1/4/2015</td>\n",
              "      <td>1.000000</td>\n",
              "      <td>435021.49</td>\n",
              "      <td>364302.39</td>\n",
              "      <td>23821.16</td>\n",
              "      <td>82.15</td>\n",
              "      <td>46815.790000</td>\n",
              "      <td>16707.15000</td>\n",
              "      <td>30108.640000</td>\n",
              "      <td>0.00</td>\n",
              "      <td>conventional</td>\n",
              "      <td>2015</td>\n",
              "      <td>Atlanta</td>\n",
              "    </tr>\n",
              "    <tr>\n",
              "      <th>2</th>\n",
              "      <td>1/4/2015</td>\n",
              "      <td>1.396018</td>\n",
              "      <td>788025.06</td>\n",
              "      <td>53987.31</td>\n",
              "      <td>552906.04</td>\n",
              "      <td>39995.03</td>\n",
              "      <td>141136.680000</td>\n",
              "      <td>137146.07000</td>\n",
              "      <td>3990.610000</td>\n",
              "      <td>0.00</td>\n",
              "      <td>conventional</td>\n",
              "      <td>2015</td>\n",
              "      <td>BaltimoreWashington</td>\n",
              "    </tr>\n",
              "    <tr>\n",
              "      <th>3</th>\n",
              "      <td>1/4/2015</td>\n",
              "      <td>1.010000</td>\n",
              "      <td>80034.32</td>\n",
              "      <td>44562.12</td>\n",
              "      <td>24964.23</td>\n",
              "      <td>2752.35</td>\n",
              "      <td>7755.620000</td>\n",
              "      <td>6064.30000</td>\n",
              "      <td>1691.320000</td>\n",
              "      <td>0.00</td>\n",
              "      <td>conventional</td>\n",
              "      <td>2015</td>\n",
              "      <td>Boise</td>\n",
              "    </tr>\n",
              "    <tr>\n",
              "      <th>4</th>\n",
              "      <td>1/4/2015</td>\n",
              "      <td>1.020000</td>\n",
              "      <td>491738.00</td>\n",
              "      <td>7193.87</td>\n",
              "      <td>396752.18</td>\n",
              "      <td>128.82</td>\n",
              "      <td>87663.130000</td>\n",
              "      <td>87406.84000</td>\n",
              "      <td>256.290000</td>\n",
              "      <td>0.00</td>\n",
              "      <td>conventional</td>\n",
              "      <td>2015</td>\n",
              "      <td>Boston</td>\n",
              "    </tr>\n",
              "    <tr>\n",
              "      <th>5</th>\n",
              "      <td>1/4/2015</td>\n",
              "      <td>1.400000</td>\n",
              "      <td>116253.44</td>\n",
              "      <td>3267.97</td>\n",
              "      <td>55693.04</td>\n",
              "      <td>109.55</td>\n",
              "      <td>57182.880000</td>\n",
              "      <td>57182.88000</td>\n",
              "      <td>0.000000</td>\n",
              "      <td>0.00</td>\n",
              "      <td>conventional</td>\n",
              "      <td>2015</td>\n",
              "      <td>BuffaloRochester</td>\n",
              "    </tr>\n",
              "    <tr>\n",
              "      <th>6</th>\n",
              "      <td>1/4/2015</td>\n",
              "      <td>0.930000</td>\n",
              "      <td>5777334.90</td>\n",
              "      <td>2843648.26</td>\n",
              "      <td>2267755.26</td>\n",
              "      <td>137479.64</td>\n",
              "      <td>528451.740000</td>\n",
              "      <td>477193.38000</td>\n",
              "      <td>47882.560000</td>\n",
              "      <td>3375.80</td>\n",
              "      <td>conventional</td>\n",
              "      <td>2015</td>\n",
              "      <td>California</td>\n",
              "    </tr>\n",
              "    <tr>\n",
              "      <th>7</th>\n",
              "      <td>1/4/2015</td>\n",
              "      <td>1.190000</td>\n",
              "      <td>166006.29</td>\n",
              "      <td>29419.03</td>\n",
              "      <td>47220.75</td>\n",
              "      <td>38568.95</td>\n",
              "      <td>50797.560000</td>\n",
              "      <td>212419.88482</td>\n",
              "      <td>75899.237988</td>\n",
              "      <td>0.00</td>\n",
              "      <td>conventional</td>\n",
              "      <td>2015</td>\n",
              "      <td>Charlotte</td>\n",
              "    </tr>\n",
              "    <tr>\n",
              "      <th>8</th>\n",
              "      <td>1/4/2015</td>\n",
              "      <td>1.110000</td>\n",
              "      <td>783068.03</td>\n",
              "      <td>30270.26</td>\n",
              "      <td>550752.19</td>\n",
              "      <td>124506.10</td>\n",
              "      <td>77539.480000</td>\n",
              "      <td>72888.46000</td>\n",
              "      <td>4651.020000</td>\n",
              "      <td>0.00</td>\n",
              "      <td>conventional</td>\n",
              "      <td>2015</td>\n",
              "      <td>Chicago</td>\n",
              "    </tr>\n",
              "    <tr>\n",
              "      <th>9</th>\n",
              "      <td>1/4/2015</td>\n",
              "      <td>0.880000</td>\n",
              "      <td>228569.58</td>\n",
              "      <td>3274.30</td>\n",
              "      <td>168764.78</td>\n",
              "      <td>1447.06</td>\n",
              "      <td>295043.209471</td>\n",
              "      <td>17525.31000</td>\n",
              "      <td>37445.460000</td>\n",
              "      <td>112.67</td>\n",
              "      <td>conventional</td>\n",
              "      <td>2015</td>\n",
              "      <td>CincinnatiDayton</td>\n",
              "    </tr>\n",
              "  </tbody>\n",
              "</table>\n",
              "</div>"
            ],
            "text/plain": [
              "       Date  AveragePrice  TotalVolume  ...          type  year               region\n",
              "0  1/4/2015      1.220000     40873.28  ...  conventional  2015               Albany\n",
              "1  1/4/2015      1.000000    435021.49  ...  conventional  2015              Atlanta\n",
              "2  1/4/2015      1.396018    788025.06  ...  conventional  2015  BaltimoreWashington\n",
              "3  1/4/2015      1.010000     80034.32  ...  conventional  2015                Boise\n",
              "4  1/4/2015      1.020000    491738.00  ...  conventional  2015               Boston\n",
              "5  1/4/2015      1.400000    116253.44  ...  conventional  2015     BuffaloRochester\n",
              "6  1/4/2015      0.930000   5777334.90  ...  conventional  2015           California\n",
              "7  1/4/2015      1.190000    166006.29  ...  conventional  2015            Charlotte\n",
              "8  1/4/2015      1.110000    783068.03  ...  conventional  2015              Chicago\n",
              "9  1/4/2015      0.880000    228569.58  ...  conventional  2015     CincinnatiDayton\n",
              "\n",
              "[10 rows x 13 columns]"
            ]
          },
          "metadata": {
            "tags": []
          },
          "execution_count": 16
        }
      ]
    },
    {
      "cell_type": "code",
      "metadata": {
        "id": "2z_NpGk0AiGa",
        "colab": {
          "base_uri": "https://localhost:8080/"
        },
        "outputId": "37fe9563-d36c-449f-fe4c-86f5bc2bd978"
      },
      "source": [
        "## check for dataset after impute missing values\r\n",
        "print(f\"Missing data:{dfnew_price.isna().sum(axis=0).any()}\")  # FALSE represent there is no missing values anymore in the dataset"
      ],
      "execution_count": 17,
      "outputs": [
        {
          "output_type": "stream",
          "text": [
            "Missing data:False\n"
          ],
          "name": "stdout"
        }
      ]
    },
    {
      "cell_type": "code",
      "metadata": {
        "id": "e7SddHUVAsYq"
      },
      "source": [
        "## see new dataset after substitue missing values / for download\r\n",
        "dfnew_price.to_csv('dfnew_price.csv',sep=',')"
      ],
      "execution_count": 18,
      "outputs": []
    },
    {
      "cell_type": "code",
      "metadata": {
        "colab": {
          "base_uri": "https://localhost:8080/",
          "height": 270
        },
        "id": "YOU6_FQalC0L",
        "outputId": "7ea95e90-e108-4fd6-cb65-a3c69b99ba13"
      },
      "source": [
        "## Check for outliers\r\n",
        "# usually the mean should lies in between min and max values distribution\r\n",
        "outliers = dfnew_price.describe()\r\n",
        "outliers"
      ],
      "execution_count": 19,
      "outputs": [
        {
          "output_type": "execute_result",
          "data": {
            "application/vnd.google.colaboratory.module+javascript": "\n      import \"https://ssl.gstatic.com/colaboratory/data_table/a6224c040fa35dcf/data_table.js\";\n\n      window.createDataTable({\n        data: [[\"count\",\n{\n            'v': 25161.0,\n            'f': \"25161.0\",\n        },\n{\n            'v': 25161.0,\n            'f': \"25161.0\",\n        },\n{\n            'v': 25161.0,\n            'f': \"25161.0\",\n        },\n{\n            'v': 25161.0,\n            'f': \"25161.0\",\n        },\n{\n            'v': 25161.0,\n            'f': \"25161.0\",\n        },\n{\n            'v': 25161.0,\n            'f': \"25161.0\",\n        },\n{\n            'v': 25161.0,\n            'f': \"25161.0\",\n        },\n{\n            'v': 25161.0,\n            'f': \"25161.0\",\n        },\n{\n            'v': 25161.0,\n            'f': \"25161.0\",\n        },\n{\n            'v': 25161.0,\n            'f': \"25161.0\",\n        }],\n [\"mean\",\n{\n            'v': 1.3960179727111512,\n            'f': \"1.3960179727111512\",\n        },\n{\n            'v': 917091.342461169,\n            'f': \"917091.342461169\",\n        },\n{\n            'v': 298153.02075182734,\n            'f': \"298153.02075182734\",\n        },\n{\n            'v': 295828.42991836485,\n            'f': \"295828.42991836485\",\n        },\n{\n            'v': 22463.619289750695,\n            'f': \"22463.619289750695\",\n        },\n{\n            'v': 295043.2094709726,\n            'f': \"295043.2094709726\",\n        },\n{\n            'v': 212419.88481983164,\n            'f': \"212419.88481983164\",\n        },\n{\n            'v': 75899.2379883542,\n            'f': \"75899.2379883542\",\n        },\n{\n            'v': 4405.638467048121,\n            'f': \"4405.638467048121\",\n        },\n{\n            'v': 2016.7768769126824,\n            'f': \"2016.7768769126824\",\n        }],\n [\"std\",\n{\n            'v': 0.377521050706715,\n            'f': \"0.377521050706715\",\n        },\n{\n            'v': 3660879.236734972,\n            'f': \"3660879.236734972\",\n        },\n{\n            'v': 1265326.5200624147,\n            'f': \"1265326.5200624147\",\n        },\n{\n            'v': 1187469.3952090577,\n            'f': \"1187469.3952090577\",\n        },\n{\n            'v': 102739.18581596404,\n            'f': \"102739.18581596404\",\n        },\n{\n            'v': 1210963.8255679405,\n            'f': \"1210963.8255679405\",\n        },\n{\n            'v': 853016.3329802693,\n            'f': \"853016.3329802693\",\n        },\n{\n            'v': 351794.362143694,\n            'f': \"351794.362143694\",\n        },\n{\n            'v': 25357.440982912885,\n            'f': \"25357.440982912885\",\n        },\n{\n            'v': 1.3239776478154128,\n            'f': \"1.3239776478154128\",\n        }],\n [\"min\",\n{\n            'v': 0.44,\n            'f': \"0.44\",\n        },\n{\n            'v': 84.56,\n            'f': \"84.56\",\n        },\n{\n            'v': 0.0,\n            'f': \"0.0\",\n        },\n{\n            'v': 0.0,\n            'f': \"0.0\",\n        },\n{\n            'v': 0.0,\n            'f': \"0.0\",\n        },\n{\n            'v': 0.0,\n            'f': \"0.0\",\n        },\n{\n            'v': 0.0,\n            'f': \"0.0\",\n        },\n{\n            'v': 0.0,\n            'f': \"0.0\",\n        },\n{\n            'v': 0.0,\n            'f': \"0.0\",\n        },\n{\n            'v': 2015.0,\n            'f': \"2015.0\",\n        }],\n [\"25%\",\n{\n            'v': 1.12,\n            'f': \"1.12\",\n        },\n{\n            'v': 14000.96,\n            'f': \"14000.96\",\n        },\n{\n            'v': 922.36,\n            'f': \"922.36\",\n        },\n{\n            'v': 3284.48,\n            'f': \"3284.48\",\n        },\n{\n            'v': 0.0,\n            'f': \"0.0\",\n        },\n{\n            'v': 7733.6,\n            'f': \"7733.6\",\n        },\n{\n            'v': 5244.73,\n            'f': \"5244.73\",\n        },\n{\n            'v': 288.89,\n            'f': \"288.89\",\n        },\n{\n            'v': 0.0,\n            'f': \"0.0\",\n        },\n{\n            'v': 2016.0,\n            'f': \"2016.0\",\n        }],\n [\"50%\",\n{\n            'v': 1.38,\n            'f': \"1.38\",\n        },\n{\n            'v': 136331.51,\n            'f': \"136331.51\",\n        },\n{\n            'v': 12258.26,\n            'f': \"12258.26\",\n        },\n{\n            'v': 30936.55,\n            'f': \"30936.55\",\n        },\n{\n            'v': 252.0,\n            'f': \"252.0\",\n        },\n{\n            'v': 51050.29,\n            'f': \"51050.29\",\n        },\n{\n            'v': 35372.69,\n            'f': \"35372.69\",\n        },\n{\n            'v': 4757.53,\n            'f': \"4757.53\",\n        },\n{\n            'v': 0.0,\n            'f': \"0.0\",\n        },\n{\n            'v': 2017.0,\n            'f': \"2017.0\",\n        }],\n [\"75%\",\n{\n            'v': 1.62,\n            'f': \"1.62\",\n        },\n{\n            'v': 563852.38,\n            'f': \"563852.38\",\n        },\n{\n            'v': 135882.54,\n            'f': \"135882.54\",\n        },\n{\n            'v': 192105.68,\n            'f': \"192105.68\",\n        },\n{\n            'v': 8008.86,\n            'f': \"8008.86\",\n        },\n{\n            'v': 163240.86,\n            'f': \"163240.86\",\n        },\n{\n            'v': 115912.3,\n            'f': \"115912.3\",\n        },\n{\n            'v': 37441.3,\n            'f': \"37441.3\",\n        },\n{\n            'v': 593.8,\n            'f': \"593.8\",\n        },\n{\n            'v': 2018.0,\n            'f': \"2018.0\",\n        }],\n [\"max\",\n{\n            'v': 3.25,\n            'f': \"3.25\",\n        },\n{\n            'v': 63716144.15,\n            'f': \"63716144.15\",\n        },\n{\n            'v': 22743616.17,\n            'f': \"22743616.17\",\n        },\n{\n            'v': 20470572.61,\n            'f': \"20470572.61\",\n        },\n{\n            'v': 2546439.11,\n            'f': \"2546439.11\",\n        },\n{\n            'v': 23472988.69,\n            'f': \"23472988.69\",\n        },\n{\n            'v': 15436246.72,\n            'f': \"15436246.72\",\n        },\n{\n            'v': 7864297.23,\n            'f': \"7864297.23\",\n        },\n{\n            'v': 844929.83,\n            'f': \"844929.83\",\n        },\n{\n            'v': 2019.0,\n            'f': \"2019.0\",\n        }]],\n        columns: [[\"string\", \"index\"], [\"number\", \"AveragePrice\"], [\"number\", \"TotalVolume\"], [\"number\", \"4046\"], [\"number\", \"4225\"], [\"number\", \"4770\"], [\"number\", \"TotalBags\"], [\"number\", \"SmallBags\"], [\"number\", \"LargeBags\"], [\"number\", \"XLargeBags\"], [\"number\", \"year\"]],\n        columnOptions: [{\"width\": \"1px\", \"className\": \"index_column\"}],\n        rowsPerPage: 25,\n        helpUrl: \"https://colab.research.google.com/notebooks/data_table.ipynb\",\n        suppressOutputScrolling: true,\n        minimumWidth: undefined,\n      });\n    ",
            "text/html": [
              "<div>\n",
              "<style scoped>\n",
              "    .dataframe tbody tr th:only-of-type {\n",
              "        vertical-align: middle;\n",
              "    }\n",
              "\n",
              "    .dataframe tbody tr th {\n",
              "        vertical-align: top;\n",
              "    }\n",
              "\n",
              "    .dataframe thead th {\n",
              "        text-align: right;\n",
              "    }\n",
              "</style>\n",
              "<table border=\"1\" class=\"dataframe\">\n",
              "  <thead>\n",
              "    <tr style=\"text-align: right;\">\n",
              "      <th></th>\n",
              "      <th>AveragePrice</th>\n",
              "      <th>TotalVolume</th>\n",
              "      <th>4046</th>\n",
              "      <th>4225</th>\n",
              "      <th>4770</th>\n",
              "      <th>TotalBags</th>\n",
              "      <th>SmallBags</th>\n",
              "      <th>LargeBags</th>\n",
              "      <th>XLargeBags</th>\n",
              "      <th>year</th>\n",
              "    </tr>\n",
              "  </thead>\n",
              "  <tbody>\n",
              "    <tr>\n",
              "      <th>count</th>\n",
              "      <td>25161.000000</td>\n",
              "      <td>2.516100e+04</td>\n",
              "      <td>2.516100e+04</td>\n",
              "      <td>2.516100e+04</td>\n",
              "      <td>2.516100e+04</td>\n",
              "      <td>2.516100e+04</td>\n",
              "      <td>2.516100e+04</td>\n",
              "      <td>2.516100e+04</td>\n",
              "      <td>25161.000000</td>\n",
              "      <td>25161.000000</td>\n",
              "    </tr>\n",
              "    <tr>\n",
              "      <th>mean</th>\n",
              "      <td>1.396018</td>\n",
              "      <td>9.170913e+05</td>\n",
              "      <td>2.981530e+05</td>\n",
              "      <td>2.958284e+05</td>\n",
              "      <td>2.246362e+04</td>\n",
              "      <td>2.950432e+05</td>\n",
              "      <td>2.124199e+05</td>\n",
              "      <td>7.589924e+04</td>\n",
              "      <td>4405.638467</td>\n",
              "      <td>2016.776877</td>\n",
              "    </tr>\n",
              "    <tr>\n",
              "      <th>std</th>\n",
              "      <td>0.377521</td>\n",
              "      <td>3.660879e+06</td>\n",
              "      <td>1.265327e+06</td>\n",
              "      <td>1.187469e+06</td>\n",
              "      <td>1.027392e+05</td>\n",
              "      <td>1.210964e+06</td>\n",
              "      <td>8.530163e+05</td>\n",
              "      <td>3.517944e+05</td>\n",
              "      <td>25357.440983</td>\n",
              "      <td>1.323978</td>\n",
              "    </tr>\n",
              "    <tr>\n",
              "      <th>min</th>\n",
              "      <td>0.440000</td>\n",
              "      <td>8.456000e+01</td>\n",
              "      <td>0.000000e+00</td>\n",
              "      <td>0.000000e+00</td>\n",
              "      <td>0.000000e+00</td>\n",
              "      <td>0.000000e+00</td>\n",
              "      <td>0.000000e+00</td>\n",
              "      <td>0.000000e+00</td>\n",
              "      <td>0.000000</td>\n",
              "      <td>2015.000000</td>\n",
              "    </tr>\n",
              "    <tr>\n",
              "      <th>25%</th>\n",
              "      <td>1.120000</td>\n",
              "      <td>1.400096e+04</td>\n",
              "      <td>9.223600e+02</td>\n",
              "      <td>3.284480e+03</td>\n",
              "      <td>0.000000e+00</td>\n",
              "      <td>7.733600e+03</td>\n",
              "      <td>5.244730e+03</td>\n",
              "      <td>2.888900e+02</td>\n",
              "      <td>0.000000</td>\n",
              "      <td>2016.000000</td>\n",
              "    </tr>\n",
              "    <tr>\n",
              "      <th>50%</th>\n",
              "      <td>1.380000</td>\n",
              "      <td>1.363315e+05</td>\n",
              "      <td>1.225826e+04</td>\n",
              "      <td>3.093655e+04</td>\n",
              "      <td>2.520000e+02</td>\n",
              "      <td>5.105029e+04</td>\n",
              "      <td>3.537269e+04</td>\n",
              "      <td>4.757530e+03</td>\n",
              "      <td>0.000000</td>\n",
              "      <td>2017.000000</td>\n",
              "    </tr>\n",
              "    <tr>\n",
              "      <th>75%</th>\n",
              "      <td>1.620000</td>\n",
              "      <td>5.638524e+05</td>\n",
              "      <td>1.358825e+05</td>\n",
              "      <td>1.921057e+05</td>\n",
              "      <td>8.008860e+03</td>\n",
              "      <td>1.632409e+05</td>\n",
              "      <td>1.159123e+05</td>\n",
              "      <td>3.744130e+04</td>\n",
              "      <td>593.800000</td>\n",
              "      <td>2018.000000</td>\n",
              "    </tr>\n",
              "    <tr>\n",
              "      <th>max</th>\n",
              "      <td>3.250000</td>\n",
              "      <td>6.371614e+07</td>\n",
              "      <td>2.274362e+07</td>\n",
              "      <td>2.047057e+07</td>\n",
              "      <td>2.546439e+06</td>\n",
              "      <td>2.347299e+07</td>\n",
              "      <td>1.543625e+07</td>\n",
              "      <td>7.864297e+06</td>\n",
              "      <td>844929.830000</td>\n",
              "      <td>2019.000000</td>\n",
              "    </tr>\n",
              "  </tbody>\n",
              "</table>\n",
              "</div>"
            ],
            "text/plain": [
              "       AveragePrice   TotalVolume  ...     XLargeBags          year\n",
              "count  25161.000000  2.516100e+04  ...   25161.000000  25161.000000\n",
              "mean       1.396018  9.170913e+05  ...    4405.638467   2016.776877\n",
              "std        0.377521  3.660879e+06  ...   25357.440983      1.323978\n",
              "min        0.440000  8.456000e+01  ...       0.000000   2015.000000\n",
              "25%        1.120000  1.400096e+04  ...       0.000000   2016.000000\n",
              "50%        1.380000  1.363315e+05  ...       0.000000   2017.000000\n",
              "75%        1.620000  5.638524e+05  ...     593.800000   2018.000000\n",
              "max        3.250000  6.371614e+07  ...  844929.830000   2019.000000\n",
              "\n",
              "[8 rows x 10 columns]"
            ]
          },
          "metadata": {
            "tags": []
          },
          "execution_count": 19
        }
      ]
    },
    {
      "cell_type": "markdown",
      "metadata": {
        "id": "nX1CUxiVoZxM"
      },
      "source": [
        "Based on above table, there is no outliers within the dataset"
      ]
    },
    {
      "cell_type": "code",
      "metadata": {
        "id": "Bjo4jFW6nyk-"
      },
      "source": [
        "## Save as new .csv file / for download\r\n",
        "outliers.to_csv('outliers.csv',sep=',')"
      ],
      "execution_count": 20,
      "outputs": []
    },
    {
      "cell_type": "code",
      "metadata": {
        "id": "awGUWUhL5h6m",
        "outputId": "812afc2a-9380-45ae-82a3-301141f866d6",
        "colab": {
          "base_uri": "https://localhost:8080/"
        }
      },
      "source": [
        "## Checking each features of the cleaned dataset\r\n",
        "dfnew_price.info()"
      ],
      "execution_count": 24,
      "outputs": [
        {
          "output_type": "stream",
          "text": [
            "<class 'pandas.core.frame.DataFrame'>\n",
            "RangeIndex: 25161 entries, 0 to 25160\n",
            "Data columns (total 13 columns):\n",
            " #   Column        Non-Null Count  Dtype  \n",
            "---  ------        --------------  -----  \n",
            " 0   Date          25161 non-null  object \n",
            " 1   AveragePrice  25161 non-null  float64\n",
            " 2   TotalVolume   25161 non-null  float64\n",
            " 3   4046          25161 non-null  float64\n",
            " 4   4225          25161 non-null  float64\n",
            " 5   4770          25161 non-null  float64\n",
            " 6   TotalBags     25161 non-null  float64\n",
            " 7   SmallBags     25161 non-null  float64\n",
            " 8   LargeBags     25161 non-null  float64\n",
            " 9   XLargeBags    25161 non-null  float64\n",
            " 10  type          25161 non-null  object \n",
            " 11  year          25161 non-null  int64  \n",
            " 12  region        25161 non-null  object \n",
            "dtypes: float64(9), int64(1), object(3)\n",
            "memory usage: 2.5+ MB\n"
          ],
          "name": "stdout"
        }
      ]
    },
    {
      "cell_type": "markdown",
      "metadata": {
        "id": "ja8NXbSX5wvR"
      },
      "source": [
        "**Conclusion after data pre-processing**\r\n",
        "* Features = 13\r\n",
        "* Instances = 25,161\r\n",
        "* No null values after impute the missing values with mean of the attribute\r\n",
        "* Features with datatype = 'object' could be the machine learning classifier which are (Type or Region)"
      ]
    },
    {
      "cell_type": "markdown",
      "metadata": {
        "id": "u8frkpZEBD4E"
      },
      "source": [
        "#### Data Distribution\r\n",
        "https://seaborn.pydata.org/tutorial/distributions.html\r\n",
        "\r\n",
        "To understand how the variables are distributed. \r\n",
        "Question that can be answered by cisualizing the distributions of data are:\r\n",
        "What range do the observations cover? \r\n",
        "* What is their central tendency? \r\n",
        "* Are they heavily skewed in one direction? \r\n",
        "* Is there evidence for bimodality? \r\n",
        "* Are there significant outliers? \r\n",
        "* Do the answers to these questions vary across subsets defined by other variables?"
      ]
    },
    {
      "cell_type": "code",
      "metadata": {
        "colab": {
          "base_uri": "https://localhost:8080/",
          "height": 939
        },
        "id": "aCVwPBlByt98",
        "outputId": "528787e1-12ec-4bee-f631-51813b75d1f5"
      },
      "source": [
        "## Visualizing distribution of data\r\n",
        "\r\n",
        "f, ax = plt.subplots(nrows=2, ncols=1, figsize=(12,10))\r\n",
        "# Univriate distribution plot\r\n",
        "# by default the kernel density estimation is TRUE; to see continuous density by smoothing the observation using Gaussian kernel fx\r\n",
        "sns.distplot(dfnew_price.AveragePrice, color='green', ax=ax[0])\r\n",
        "# Box plot\r\n",
        "sns.boxplot(dfnew_price.AveragePrice, color='green',ax=ax[1])\r\n",
        "\r\n",
        "## see probability distribution of avg price\r\n",
        "f, ax = plt.subplots(nrows=1, ncols=1, figsize=(12,5))\r\n",
        "# Probability distribution\r\n",
        "stats.probplot(dfnew_price['AveragePrice'], plot=ax)\r\n",
        "plt.show()"
      ],
      "execution_count": 28,
      "outputs": [
        {
          "output_type": "display_data",
          "data": {
            "image/png": "[encoded data removed]",
            "text/plain": [
              "<Figure size 864x720 with 2 Axes>"
            ]
          },
          "metadata": {
            "tags": [],
            "needs_background": "light"
          }
        },
        {
          "output_type": "display_data",
          "data": {
            "image/png": "[encoded data removed]",
            "text/plain": [
              "<Figure size 864x360 with 1 Axes>"
            ]
          },
          "metadata": {
            "tags": [],
            "needs_background": "light"
          }
        }
      ]
    },
    {
      "cell_type": "markdown",
      "metadata": {
        "id": "eOayGA3oyxK3"
      },
      "source": [
        "**Conclusion from visualizing distribution of data**\r\n",
        "* All 3 plots above showed bimodal distribution which telling us that we have 2 local maximum.\r\n",
        "* As discussed earlier in pre-processing section, our potential classifier could be Type and Region which in this case Type has 2 class (Organic & Conventional)"
      ]
    },
    {
      "cell_type": "code",
      "metadata": {
        "id": "iH4m29CyBAyU",
        "colab": {
          "base_uri": "https://localhost:8080/",
          "height": 387
        },
        "outputId": "1ac3218c-cb27-4f8e-83eb-821ea6b40234"
      },
      "source": [
        "# Distribution plot of Avg price against total volume for each Avocade type\r\n",
        "sns.displot(dfnew_price, x='TotalVolume', y='AveragePrice',hue='type',height=5)\r\n"
      ],
      "execution_count": 29,
      "outputs": [
        {
          "output_type": "execute_result",
          "data": {
            "text/plain": [
              "<seaborn.axisgrid.FacetGrid at 0x7f289bede198>"
            ]
          },
          "metadata": {
            "tags": []
          },
          "execution_count": 29
        },
        {
          "output_type": "display_data",
          "data": {
            "image/png": "[encoded data removed]",
            "text/plain": [
              "<Figure size 460.375x360 with 1 Axes>"
            ]
          },
          "metadata": {
            "tags": [],
            "needs_background": "light"
          }
        }
      ]
    },
    {
      "cell_type": "markdown",
      "metadata": {
        "id": "st1_b-2EpATw"
      },
      "source": [
        "**Bivariate Distribution Plot**\r\n",
        "* Based on the bivariate distribution plot above, we can see that more conventional avocado has been sold compared to organic avocado.\r\n",
        "* Also, organic avocado was selling at higher price compared to conventional avocado.\r\n",
        "\r\n",
        "\r\n"
      ]
    },
    {
      "cell_type": "markdown",
      "metadata": {
        "id": "YjUhk7u7ziT3"
      },
      "source": [
        "**Skewness**\r\n",
        "* Skewness is a measure of the asymmetry of the probability distribution of a random variable about its mean. In other words, skewness tells you the amount and direction of skew (departure from horizontal symmetry)."
      ]
    },
    {
      "cell_type": "code",
      "metadata": {
        "id": "fSXJtlqKDQRz",
        "colab": {
          "base_uri": "https://localhost:8080/"
        },
        "outputId": "baa4661b-f43a-4abf-e0e9-574536b6860e"
      },
      "source": [
        "print(\"Skewness: %f\" % dfnew_price['AveragePrice'].skew())"
      ],
      "execution_count": 89,
      "outputs": [
        {
          "output_type": "stream",
          "text": [
            "Skewness: 0.602213\n"
          ],
          "name": "stdout"
        }
      ]
    },
    {
      "cell_type": "code",
      "metadata": {
        "id": "VNJAh57Czhvj"
      },
      "source": [
        ""
      ],
      "execution_count": null,
      "outputs": []
    }
  ]
}