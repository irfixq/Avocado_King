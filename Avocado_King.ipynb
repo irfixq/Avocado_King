{
  "nbformat": 4,
  "nbformat_minor": 0,
  "metadata": {
    "colab": {
      "name": "Avocado_King.ipynb",
      "provenance": [],
      "authorship_tag": "ABX9TyMZJZjwvoNsDhp4H1pjnZSC",
      "include_colab_link": true
    },
    "kernelspec": {
      "name": "python3",
      "display_name": "Python 3"
    }
  },
  "cells": [
    {
      "cell_type": "markdown",
      "metadata": {
        "id": "view-in-github",
        "colab_type": "text"
      },
      "source": [
        "<a href=\"https://colab.research.google.com/github/irfixq/Avocado_King/blob/main/Avocado_King.ipynb\" target=\"_parent\"><img src=\"https://colab.research.google.com/assets/colab-badge.svg\" alt=\"Open In Colab\"/></a>"
      ]
    },
    {
      "cell_type": "markdown",
      "metadata": {
        "id": "3N37HxWnw2Ln"
      },
      "source": [
        "# Avocado King - Price & Sales Prediction using python"
      ]
    },
    {
      "cell_type": "markdown",
      "metadata": {
        "id": "sZmttJ6Zb4Tt"
      },
      "source": [
        "## System Configuration"
      ]
    },
    {
      "cell_type": "code",
      "metadata": {
        "id": "S_LgmTIRwhSn"
      },
      "source": [
        "import sys #access to system parameters https://docs.python.org/3/library/sys.html\r\n",
        "\r\n",
        "import numpy as np # linear algebra\r\n",
        "\r\n",
        "import pandas as pd # data processing, CSV file I/O (e.g. pd.read_csv)\r\n",
        "\r\n",
        "import matplotlib # collection of functions for scientific and publication-ready visualization\r\n",
        "import matplotlib.pyplot as plt\r\n",
        "%matplotlib inline\r\n",
        "\r\n",
        "import warnings # ignore warnings\r\n",
        "warnings.filterwarnings('ignore')\r\n",
        "\r\n",
        "from google.colab import data_table # to show full data table in multiple pages\r\n",
        "%load_ext google.colab.data_table\r\n",
        "pd.set_option('max_rows', 30000)"
      ],
      "execution_count": null,
      "outputs": []
    },
    {
      "cell_type": "code",
      "metadata": {
        "id": "daJsfghPbscM"
      },
      "source": [
        "## Check system and python dependencies version\r\n",
        "print(\"Python version: {}\". format(sys.version))\r\n",
        "print(\"NumPy version: {}\". format(np.__version__))\r\n",
        "print(\"pandas version: {}\". format(pd.__version__))\r\n",
        "print(\"matplotlib version: {}\". format(matplotlib.__version__))\r\n"
      ],
      "execution_count": null,
      "outputs": []
    },
    {
      "cell_type": "markdown",
      "metadata": {
        "id": "8OYOXbyezrvc"
      },
      "source": [
        "There are 2 options to get the data, either from GitHub or Google Drive.\r\n",
        "In this case, I prefer to use Git Clone since it will be easier for user to access the repo instead of loading everything into their Google Drive or local."
      ]
    },
    {
      "cell_type": "code",
      "metadata": {
        "id": "flmH4nz0zgkI"
      },
      "source": [
        "## Clone repo from GitHub\r\n",
        "! git clone 'https://github.com/irfixq/Avocado_King'"
      ],
      "execution_count": null,
      "outputs": []
    },
    {
      "cell_type": "code",
      "metadata": {
        "id": "wBSvyvrexLww"
      },
      "source": [
        "## Mount Google Drive to get data\r\n",
        "## make sure you uploaded the folder into your Google Drive first\r\n",
        "\r\n",
        "#from google.colab import drive \r\n",
        "#drive.mount('/content/drive')"
      ],
      "execution_count": null,
      "outputs": []
    },
    {
      "cell_type": "code",
      "metadata": {
        "id": "KJ188A0N0bNZ"
      },
      "source": [
        "## get working directory\r\n",
        "! pwd\r\n",
        "\r\n",
        "## list all folders in working directory\r\n",
        "! ls"
      ],
      "execution_count": null,
      "outputs": []
    },
    {
      "cell_type": "code",
      "metadata": {
        "id": "eVhfHnGoxzZe"
      },
      "source": [
        "## change working directory to github folder\r\n",
        "import os\r\n",
        "os.chdir('/content/Avocado_King')\r\n"
      ],
      "execution_count": null,
      "outputs": []
    },
    {
      "cell_type": "code",
      "metadata": {
        "id": "Xo7MTdcj1x2G"
      },
      "source": [
        "## check working directory after change path\r\n",
        "! pwd\r\n",
        "! ls"
      ],
      "execution_count": null,
      "outputs": []
    },
    {
      "cell_type": "markdown",
      "metadata": {
        "id": "MQ-yd4G3w0ID"
      },
      "source": [
        "## Data Pre-Processing\r\n",
        "\r\n",
        "1. Data pre-processing for price and sales data\r\n",
        "> * Read dataset  as pandas dataframe\r\n",
        "> * Check for df dimension (rows, columns)\r\n",
        "> * Check for column names and datatype\r\n",
        "> * Show raw dataset table\r\n",
        "> * Check for missing values\r\n",
        "> * Handle missing values (if any)\r\n",
        "\r\n",
        "\r\n",
        "2. Data Distribution\r\n",
        "3. Data pre-processing for Google search data\r\n",
        "\r\n"
      ]
    },
    {
      "cell_type": "markdown",
      "metadata": {
        "id": "SCRmV_Y8_2Sa"
      },
      "source": [
        "#### Data pre-processing for price and sales data"
      ]
    },
    {
      "cell_type": "code",
      "metadata": {
        "id": "ae1To9FQw05Y"
      },
      "source": [
        "## see the shape of the dataset (rows, columns)\r\n",
        "df_price = pd.read_csv('/content/Avocado_King/price-and-sales-data.csv')\r\n",
        "df_price.shape"
      ],
      "execution_count": null,
      "outputs": []
    },
    {
      "cell_type": "code",
      "metadata": {
        "id": "ck_DDBfK21_-"
      },
      "source": [
        "## list all column names\r\n",
        "df_price.columns"
      ],
      "execution_count": null,
      "outputs": []
    },
    {
      "cell_type": "code",
      "metadata": {
        "id": "_DA953y8_ia-"
      },
      "source": [
        "## checking data type of each column\r\n",
        "df_price.dtypes"
      ],
      "execution_count": null,
      "outputs": []
    },
    {
      "cell_type": "code",
      "metadata": {
        "id": "xy7qD4a92Qdg"
      },
      "source": [
        "## see the dataset\r\n",
        "df_price"
      ],
      "execution_count": null,
      "outputs": []
    },
    {
      "cell_type": "code",
      "metadata": {
        "id": "ej5WC2SK-tmd"
      },
      "source": [
        "## check for missing values in dataset\n",
        "print(f\"Missing data:{df_price.isna().sum(axis=0).any()}\") # TRUE represents the dataset has missing data"
      ],
      "execution_count": null,
      "outputs": []
    },
    {
      "cell_type": "code",
      "metadata": {
        "id": "iRq1tJ8zmiSN"
      },
      "source": [
        "## See the missing data in dataset\r\n",
        "df_price_NA_check = df_price.isna()\r\n",
        "df_price_NA_check"
      ],
      "execution_count": null,
      "outputs": []
    },
    {
      "cell_type": "code",
      "metadata": {
        "id": "DLYwXEMZeHDu"
      },
      "source": [
        "## Save as new .csv table to see whole data / for download\r\n",
        "df_price_NA_check.to_csv('df_price_NA_check.csv',sep=',')"
      ],
      "execution_count": null,
      "outputs": []
    },
    {
      "cell_type": "code",
      "metadata": {
        "id": "8tm1NIip_75m"
      },
      "source": [
        "## there are 2 option to handle missing data\r\n",
        "# option 1 = eliminate data point that contain missing values (not recommended as you might missed important data for other attribute)\r\n",
        "# option 2 = substitue missing value with avg value of the attribute\r\n",
        "\r\n",
        "dfnew_price = df_price.fillna(df_price.mean())"
      ],
      "execution_count": null,
      "outputs": []
    },
    {
      "cell_type": "code",
      "metadata": {
        "id": "2z_NpGk0AiGa"
      },
      "source": [
        "## check for dataset after impute missing values\r\n",
        "print(f\"Missing data:{dfnew_price.isna().sum(axis=0).any()}\")  # FALSE represent there is no missing values anymore in the dataset"
      ],
      "execution_count": null,
      "outputs": []
    },
    {
      "cell_type": "code",
      "metadata": {
        "id": "e7SddHUVAsYq"
      },
      "source": [
        "## see new dataset after substitue missing values / for download\r\n",
        "dfnew_price.to_csv('dfnew_price.csv',sep=',')"
      ],
      "execution_count": null,
      "outputs": []
    },
    {
      "cell_type": "code",
      "metadata": {
        "colab": {
          "base_uri": "https://localhost:8080/",
          "height": 265
        },
        "id": "YOU6_FQalC0L",
        "outputId": "948acade-2378-4e48-a8c4-fe0c34771d63"
      },
      "source": [
        "## Check for outliers\r\n",
        "# usually the mean should lies in between min and max values distribution\r\n",
        "outliers = dfnew_price.describe()\r\n",
        "outliers"
      ],
      "execution_count": 29,
      "outputs": [
        {
          "output_type": "execute_result",
          "data": {
            "application/vnd.google.colaboratory.module+javascript": "\n      import \"https://ssl.gstatic.com/colaboratory/data_table/a6224c040fa35dcf/data_table.js\";\n\n      window.createDataTable({\n        data: [[\"count\",\n{\n            'v': 25161.0,\n            'f': \"25161.0\",\n        },\n{\n            'v': 25161.0,\n            'f': \"25161.0\",\n        },\n{\n            'v': 25161.0,\n            'f': \"25161.0\",\n        },\n{\n            'v': 25161.0,\n            'f': \"25161.0\",\n        },\n{\n            'v': 25161.0,\n            'f': \"25161.0\",\n        },\n{\n            'v': 25161.0,\n            'f': \"25161.0\",\n        },\n{\n            'v': 25161.0,\n            'f': \"25161.0\",\n        },\n{\n            'v': 25161.0,\n            'f': \"25161.0\",\n        },\n{\n            'v': 25161.0,\n            'f': \"25161.0\",\n        },\n{\n            'v': 25161.0,\n            'f': \"25161.0\",\n        }],\n [\"mean\",\n{\n            'v': 1.3960179727111512,\n            'f': \"1.3960179727111512\",\n        },\n{\n            'v': 917091.342461169,\n            'f': \"917091.342461169\",\n        },\n{\n            'v': 298153.02075182734,\n            'f': \"298153.02075182734\",\n        },\n{\n            'v': 295828.42991836485,\n            'f': \"295828.42991836485\",\n        },\n{\n            'v': 22463.619289750695,\n            'f': \"22463.619289750695\",\n        },\n{\n            'v': 295043.2094709726,\n            'f': \"295043.2094709726\",\n        },\n{\n            'v': 212419.88481983164,\n            'f': \"212419.88481983164\",\n        },\n{\n            'v': 75899.2379883542,\n            'f': \"75899.2379883542\",\n        },\n{\n            'v': 4405.638467048121,\n            'f': \"4405.638467048121\",\n        },\n{\n            'v': 2016.7768769126824,\n            'f': \"2016.7768769126824\",\n        }],\n [\"std\",\n{\n            'v': 0.377521050706715,\n            'f': \"0.377521050706715\",\n        },\n{\n            'v': 3660879.236734972,\n            'f': \"3660879.236734972\",\n        },\n{\n            'v': 1265326.5200624147,\n            'f': \"1265326.5200624147\",\n        },\n{\n            'v': 1187469.3952090577,\n            'f': \"1187469.3952090577\",\n        },\n{\n            'v': 102739.18581596404,\n            'f': \"102739.18581596404\",\n        },\n{\n            'v': 1210963.8255679405,\n            'f': \"1210963.8255679405\",\n        },\n{\n            'v': 853016.3329802693,\n            'f': \"853016.3329802693\",\n        },\n{\n            'v': 351794.362143694,\n            'f': \"351794.362143694\",\n        },\n{\n            'v': 25357.440982912885,\n            'f': \"25357.440982912885\",\n        },\n{\n            'v': 1.3239776478154128,\n            'f': \"1.3239776478154128\",\n        }],\n [\"min\",\n{\n            'v': 0.44,\n            'f': \"0.44\",\n        },\n{\n            'v': 84.56,\n            'f': \"84.56\",\n        },\n{\n            'v': 0.0,\n            'f': \"0.0\",\n        },\n{\n            'v': 0.0,\n            'f': \"0.0\",\n        },\n{\n            'v': 0.0,\n            'f': \"0.0\",\n        },\n{\n            'v': 0.0,\n            'f': \"0.0\",\n        },\n{\n            'v': 0.0,\n            'f': \"0.0\",\n        },\n{\n            'v': 0.0,\n            'f': \"0.0\",\n        },\n{\n            'v': 0.0,\n            'f': \"0.0\",\n        },\n{\n            'v': 2015.0,\n            'f': \"2015.0\",\n        }],\n [\"25%\",\n{\n            'v': 1.12,\n            'f': \"1.12\",\n        },\n{\n            'v': 14000.96,\n            'f': \"14000.96\",\n        },\n{\n            'v': 922.36,\n            'f': \"922.36\",\n        },\n{\n            'v': 3284.48,\n            'f': \"3284.48\",\n        },\n{\n            'v': 0.0,\n            'f': \"0.0\",\n        },\n{\n            'v': 7733.6,\n            'f': \"7733.6\",\n        },\n{\n            'v': 5244.73,\n            'f': \"5244.73\",\n        },\n{\n            'v': 288.89,\n            'f': \"288.89\",\n        },\n{\n            'v': 0.0,\n            'f': \"0.0\",\n        },\n{\n            'v': 2016.0,\n            'f': \"2016.0\",\n        }],\n [\"50%\",\n{\n            'v': 1.38,\n            'f': \"1.38\",\n        },\n{\n            'v': 136331.51,\n            'f': \"136331.51\",\n        },\n{\n            'v': 12258.26,\n            'f': \"12258.26\",\n        },\n{\n            'v': 30936.55,\n            'f': \"30936.55\",\n        },\n{\n            'v': 252.0,\n            'f': \"252.0\",\n        },\n{\n            'v': 51050.29,\n            'f': \"51050.29\",\n        },\n{\n            'v': 35372.69,\n            'f': \"35372.69\",\n        },\n{\n            'v': 4757.53,\n            'f': \"4757.53\",\n        },\n{\n            'v': 0.0,\n            'f': \"0.0\",\n        },\n{\n            'v': 2017.0,\n            'f': \"2017.0\",\n        }],\n [\"75%\",\n{\n            'v': 1.62,\n            'f': \"1.62\",\n        },\n{\n            'v': 563852.38,\n            'f': \"563852.38\",\n        },\n{\n            'v': 135882.54,\n            'f': \"135882.54\",\n        },\n{\n            'v': 192105.68,\n            'f': \"192105.68\",\n        },\n{\n            'v': 8008.86,\n            'f': \"8008.86\",\n        },\n{\n            'v': 163240.86,\n            'f': \"163240.86\",\n        },\n{\n            'v': 115912.3,\n            'f': \"115912.3\",\n        },\n{\n            'v': 37441.3,\n            'f': \"37441.3\",\n        },\n{\n            'v': 593.8,\n            'f': \"593.8\",\n        },\n{\n            'v': 2018.0,\n            'f': \"2018.0\",\n        }],\n [\"max\",\n{\n            'v': 3.25,\n            'f': \"3.25\",\n        },\n{\n            'v': 63716144.15,\n            'f': \"63716144.15\",\n        },\n{\n            'v': 22743616.17,\n            'f': \"22743616.17\",\n        },\n{\n            'v': 20470572.61,\n            'f': \"20470572.61\",\n        },\n{\n            'v': 2546439.11,\n            'f': \"2546439.11\",\n        },\n{\n            'v': 23472988.69,\n            'f': \"23472988.69\",\n        },\n{\n            'v': 15436246.72,\n            'f': \"15436246.72\",\n        },\n{\n            'v': 7864297.23,\n            'f': \"7864297.23\",\n        },\n{\n            'v': 844929.83,\n            'f': \"844929.83\",\n        },\n{\n            'v': 2019.0,\n            'f': \"2019.0\",\n        }]],\n        columns: [[\"string\", \"index\"], [\"number\", \"AveragePrice\"], [\"number\", \"TotalVolume\"], [\"number\", \"4046\"], [\"number\", \"4225\"], [\"number\", \"4770\"], [\"number\", \"TotalBags\"], [\"number\", \"SmallBags\"], [\"number\", \"LargeBags\"], [\"number\", \"XLargeBags\"], [\"number\", \"year\"]],\n        columnOptions: [{\"width\": \"1px\", \"className\": \"index_column\"}],\n        rowsPerPage: 25,\n        helpUrl: \"https://colab.research.google.com/notebooks/data_table.ipynb\",\n        suppressOutputScrolling: true,\n        minimumWidth: undefined,\n      });\n    ",
            "text/html": [
              "<div>\n",
              "<style scoped>\n",
              "    .dataframe tbody tr th:only-of-type {\n",
              "        vertical-align: middle;\n",
              "    }\n",
              "\n",
              "    .dataframe tbody tr th {\n",
              "        vertical-align: top;\n",
              "    }\n",
              "\n",
              "    .dataframe thead th {\n",
              "        text-align: right;\n",
              "    }\n",
              "</style>\n",
              "<table border=\"1\" class=\"dataframe\">\n",
              "  <thead>\n",
              "    <tr style=\"text-align: right;\">\n",
              "      <th></th>\n",
              "      <th>AveragePrice</th>\n",
              "      <th>TotalVolume</th>\n",
              "      <th>4046</th>\n",
              "      <th>4225</th>\n",
              "      <th>4770</th>\n",
              "      <th>TotalBags</th>\n",
              "      <th>SmallBags</th>\n",
              "      <th>LargeBags</th>\n",
              "      <th>XLargeBags</th>\n",
              "      <th>year</th>\n",
              "    </tr>\n",
              "  </thead>\n",
              "  <tbody>\n",
              "    <tr>\n",
              "      <th>count</th>\n",
              "      <td>25161.000000</td>\n",
              "      <td>2.516100e+04</td>\n",
              "      <td>2.516100e+04</td>\n",
              "      <td>2.516100e+04</td>\n",
              "      <td>2.516100e+04</td>\n",
              "      <td>2.516100e+04</td>\n",
              "      <td>2.516100e+04</td>\n",
              "      <td>2.516100e+04</td>\n",
              "      <td>25161.000000</td>\n",
              "      <td>25161.000000</td>\n",
              "    </tr>\n",
              "    <tr>\n",
              "      <th>mean</th>\n",
              "      <td>1.396018</td>\n",
              "      <td>9.170913e+05</td>\n",
              "      <td>2.981530e+05</td>\n",
              "      <td>2.958284e+05</td>\n",
              "      <td>2.246362e+04</td>\n",
              "      <td>2.950432e+05</td>\n",
              "      <td>2.124199e+05</td>\n",
              "      <td>7.589924e+04</td>\n",
              "      <td>4405.638467</td>\n",
              "      <td>2016.776877</td>\n",
              "    </tr>\n",
              "    <tr>\n",
              "      <th>std</th>\n",
              "      <td>0.377521</td>\n",
              "      <td>3.660879e+06</td>\n",
              "      <td>1.265327e+06</td>\n",
              "      <td>1.187469e+06</td>\n",
              "      <td>1.027392e+05</td>\n",
              "      <td>1.210964e+06</td>\n",
              "      <td>8.530163e+05</td>\n",
              "      <td>3.517944e+05</td>\n",
              "      <td>25357.440983</td>\n",
              "      <td>1.323978</td>\n",
              "    </tr>\n",
              "    <tr>\n",
              "      <th>min</th>\n",
              "      <td>0.440000</td>\n",
              "      <td>8.456000e+01</td>\n",
              "      <td>0.000000e+00</td>\n",
              "      <td>0.000000e+00</td>\n",
              "      <td>0.000000e+00</td>\n",
              "      <td>0.000000e+00</td>\n",
              "      <td>0.000000e+00</td>\n",
              "      <td>0.000000e+00</td>\n",
              "      <td>0.000000</td>\n",
              "      <td>2015.000000</td>\n",
              "    </tr>\n",
              "    <tr>\n",
              "      <th>25%</th>\n",
              "      <td>1.120000</td>\n",
              "      <td>1.400096e+04</td>\n",
              "      <td>9.223600e+02</td>\n",
              "      <td>3.284480e+03</td>\n",
              "      <td>0.000000e+00</td>\n",
              "      <td>7.733600e+03</td>\n",
              "      <td>5.244730e+03</td>\n",
              "      <td>2.888900e+02</td>\n",
              "      <td>0.000000</td>\n",
              "      <td>2016.000000</td>\n",
              "    </tr>\n",
              "    <tr>\n",
              "      <th>50%</th>\n",
              "      <td>1.380000</td>\n",
              "      <td>1.363315e+05</td>\n",
              "      <td>1.225826e+04</td>\n",
              "      <td>3.093655e+04</td>\n",
              "      <td>2.520000e+02</td>\n",
              "      <td>5.105029e+04</td>\n",
              "      <td>3.537269e+04</td>\n",
              "      <td>4.757530e+03</td>\n",
              "      <td>0.000000</td>\n",
              "      <td>2017.000000</td>\n",
              "    </tr>\n",
              "    <tr>\n",
              "      <th>75%</th>\n",
              "      <td>1.620000</td>\n",
              "      <td>5.638524e+05</td>\n",
              "      <td>1.358825e+05</td>\n",
              "      <td>1.921057e+05</td>\n",
              "      <td>8.008860e+03</td>\n",
              "      <td>1.632409e+05</td>\n",
              "      <td>1.159123e+05</td>\n",
              "      <td>3.744130e+04</td>\n",
              "      <td>593.800000</td>\n",
              "      <td>2018.000000</td>\n",
              "    </tr>\n",
              "    <tr>\n",
              "      <th>max</th>\n",
              "      <td>3.250000</td>\n",
              "      <td>6.371614e+07</td>\n",
              "      <td>2.274362e+07</td>\n",
              "      <td>2.047057e+07</td>\n",
              "      <td>2.546439e+06</td>\n",
              "      <td>2.347299e+07</td>\n",
              "      <td>1.543625e+07</td>\n",
              "      <td>7.864297e+06</td>\n",
              "      <td>844929.830000</td>\n",
              "      <td>2019.000000</td>\n",
              "    </tr>\n",
              "  </tbody>\n",
              "</table>\n",
              "</div>"
            ],
            "text/plain": [
              "       AveragePrice   TotalVolume  ...     XLargeBags          year\n",
              "count  25161.000000  2.516100e+04  ...   25161.000000  25161.000000\n",
              "mean       1.396018  9.170913e+05  ...    4405.638467   2016.776877\n",
              "std        0.377521  3.660879e+06  ...   25357.440983      1.323978\n",
              "min        0.440000  8.456000e+01  ...       0.000000   2015.000000\n",
              "25%        1.120000  1.400096e+04  ...       0.000000   2016.000000\n",
              "50%        1.380000  1.363315e+05  ...       0.000000   2017.000000\n",
              "75%        1.620000  5.638524e+05  ...     593.800000   2018.000000\n",
              "max        3.250000  6.371614e+07  ...  844929.830000   2019.000000\n",
              "\n",
              "[8 rows x 10 columns]"
            ]
          },
          "metadata": {
            "tags": []
          },
          "execution_count": 29
        }
      ]
    },
    {
      "cell_type": "markdown",
      "metadata": {
        "id": "nX1CUxiVoZxM"
      },
      "source": [
        "Based on above table, there is no outliers within the dataset"
      ]
    },
    {
      "cell_type": "code",
      "metadata": {
        "id": "Bjo4jFW6nyk-"
      },
      "source": [
        "## Save as new .csv file / for download\r\n",
        "outliers.to_csv('outliers.csv',sep=',')"
      ],
      "execution_count": 30,
      "outputs": []
    },
    {
      "cell_type": "markdown",
      "metadata": {
        "id": "u8frkpZEBD4E"
      },
      "source": [
        "#### Data Distribution\r\n",
        "https://seaborn.pydata.org/tutorial/distributions.html\r\n",
        "\r\n",
        "To understand how the variables are distributed. \r\n",
        "Question that can be answered by cisualizing the distributions of data are:\r\n",
        "What range do the observations cover? \r\n",
        "* What is their central tendency? \r\n",
        "* Are they heavily skewed in one direction? \r\n",
        "* Is there evidence for bimodality? \r\n",
        "* Are there significant outliers? \r\n",
        "* Do the answers to these questions vary across subsets defined by other variables?"
      ]
    },
    {
      "cell_type": "code",
      "metadata": {
        "id": "4xYJbjjtwjmx"
      },
      "source": [
        "## Visualizing distributions of clean data\r\n",
        "import seaborn as sns"
      ],
      "execution_count": 86,
      "outputs": []
    },
    {
      "cell_type": "code",
      "metadata": {
        "id": "iH4m29CyBAyU",
        "colab": {
          "base_uri": "https://localhost:8080/",
          "height": 595
        },
        "outputId": "ae140541-6198-4387-a5da-249535b8c932"
      },
      "source": [
        "# Distribution plot of Avg price against total volume for each Avocade type\r\n",
        "sns.displot(dfnew_price, x='TotalVolume', y='AveragePrice',hue='type',height=10)\r\n"
      ],
      "execution_count": 87,
      "outputs": [
        {
          "output_type": "execute_result",
          "data": {
            "text/plain": [
              "<seaborn.axisgrid.FacetGrid at 0x7f69a0d68ac8>"
            ]
          },
          "metadata": {
            "tags": []
          },
          "execution_count": 87
        },
        {
          "output_type": "display_data",
          "data": {
            "image/png": "[encoded data removed]",
            "text/plain": [
              "<Figure size 820.375x720 with 1 Axes>"
            ]
          },
          "metadata": {
            "tags": [],
            "needs_background": "light"
          }
        }
      ]
    },
    {
      "cell_type": "markdown",
      "metadata": {
        "id": "st1_b-2EpATw"
      },
      "source": [
        "**Bivariate Distribution Plot**\r\n",
        "* Based on the bivariate distribution plot above, we can see that more conventional avocado has been sold compared to organic avocado.\r\n",
        "* Also, organic avocado is seeling at higher price.\r\n",
        "\r\n",
        "\r\n"
      ]
    },
    {
      "cell_type": "code",
      "metadata": {
        "id": "aCVwPBlByt98",
        "outputId": "79520c45-8f85-4b6f-c682-e31d7675bd5a",
        "colab": {
          "base_uri": "https://localhost:8080/",
          "height": 623
        }
      },
      "source": [
        "f, ax = plt.subplots(nrows=2, ncols=1, figsize=(10,10))\r\n",
        "\r\n",
        "# distribution plot\r\n",
        "# by default the kernel density estimation is TRUE; to see continuous density by smoothing the observation using Gaussian kernel fx\r\n",
        "sns.distplot(dfnew_price.AveragePrice, color='green', ax=ax[0])\r\n",
        "\r\n",
        "# box plot\r\n",
        "sns.boxplot(dfnew_price.AveragePrice, color='green',ax=ax[1])"
      ],
      "execution_count": 88,
      "outputs": [
        {
          "output_type": "execute_result",
          "data": {
            "text/plain": [
              "<matplotlib.axes._subplots.AxesSubplot at 0x7f699e9e90f0>"
            ]
          },
          "metadata": {
            "tags": []
          },
          "execution_count": 88
        },
        {
          "output_type": "display_data",
          "data": {
            "image/png": "[encoded data removed]",
            "text/plain": [
              "<Figure size 720x720 with 2 Axes>"
            ]
          },
          "metadata": {
            "tags": [],
            "needs_background": "light"
          }
        }
      ]
    },
    {
      "cell_type": "markdown",
      "metadata": {
        "id": "eOayGA3oyxK3"
      },
      "source": [
        "**Univariate Distribution Plot**\r\n",
        "* Shown bimodal distribution which represents 2 mode; could be because we have 2 types of avocado\r\n",
        "\r\n",
        "**Box Plot**\r\n",
        "* Sh"
      ]
    },
    {
      "cell_type": "code",
      "metadata": {
        "id": "2e1K9auYC0Dk",
        "colab": {
          "base_uri": "https://localhost:8080/",
          "height": 404
        },
        "outputId": "b1e95abd-5f0c-420c-cf8e-13a7afe7d1ec"
      },
      "source": [
        "## see probability distribution of avg price\r\n",
        "f, ax = plt.subplots(nrows=1, ncols=1, figsize=(12, 6))\r\n",
        "from scipy import stats\r\n",
        "stats.probplot(dfnew_price['AveragePrice'], plot=ax)\r\n",
        "plt.show()"
      ],
      "execution_count": 58,
      "outputs": [
        {
          "output_type": "display_data",
          "data": {
            "image/png": "[encoded data removed]",
            "text/plain": [
              "<Figure size 864x432 with 1 Axes>"
            ]
          },
          "metadata": {
            "tags": [],
            "needs_background": "light"
          }
        }
      ]
    },
    {
      "cell_type": "markdown",
      "metadata": {
        "id": "YjUhk7u7ziT3"
      },
      "source": [
        ""
      ]
    },
    {
      "cell_type": "code",
      "metadata": {
        "id": "fSXJtlqKDQRz",
        "colab": {
          "base_uri": "https://localhost:8080/"
        },
        "outputId": "baa4661b-f43a-4abf-e0e9-574536b6860e"
      },
      "source": [
        "print(\"Skewness: %f\" % dfnew_price['AveragePrice'].skew())"
      ],
      "execution_count": 89,
      "outputs": [
        {
          "output_type": "stream",
          "text": [
            "Skewness: 0.602213\n"
          ],
          "name": "stdout"
        }
      ]
    },
    {
      "cell_type": "code",
      "metadata": {
        "id": "VNJAh57Czhvj"
      },
      "source": [
        ""
      ],
      "execution_count": null,
      "outputs": []
    }
  ]
}