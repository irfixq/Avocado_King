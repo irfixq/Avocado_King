{
  "nbformat": 4,
  "nbformat_minor": 0,
  "metadata": {
    "colab": {
      "name": "Avocado_King.ipynb",
      "provenance": [],
      "authorship_tag": "ABX9TyOn1CrTY5Bl1y31HiBN7kXR",
      "include_colab_link": true
    },
    "kernelspec": {
      "name": "python3",
      "display_name": "Python 3"
    }
  },
  "cells": [
    {
      "cell_type": "markdown",
      "metadata": {
        "id": "view-in-github",
        "colab_type": "text"
      },
      "source": [
        "<a href=\"https://colab.research.google.com/github/irfixq/Avocado_King/blob/main/Avocado_King.ipynb\" target=\"_parent\"><img src=\"https://colab.research.google.com/assets/colab-badge.svg\" alt=\"Open In Colab\"/></a>"
      ]
    },
    {
      "cell_type": "markdown",
      "metadata": {
        "id": "3N37HxWnw2Ln"
      },
      "source": [
        "# Avocado King - Price & Sales Prediction using python"
      ]
    },
    {
      "cell_type": "code",
      "metadata": {
        "colab": {
          "base_uri": "https://localhost:8080/"
        },
        "id": "S_LgmTIRwhSn",
        "outputId": "246413b4-4574-4685-8c47-3009855dc6d6"
      },
      "source": [
        "import sys #access to system parameters https://docs.python.org/3/library/sys.html\r\n",
        "print(\"Python version: {}\". format(sys.version))\r\n",
        "import numpy as np # linear algebra\r\n",
        "print(\"NumPy version: {}\". format(np.__version__))\r\n",
        "import pandas as pd # data processing, CSV file I/O (e.g. pd.read_csv)\r\n",
        "print(\"pandas version: {}\". format(pd.__version__))\r\n",
        "import matplotlib # collection of functions for scientific and publication-ready visualization\r\n",
        "print(\"matplotlib version: {}\". format(matplotlib.__version__))\r\n",
        "import matplotlib.pyplot as plt\r\n",
        "%matplotlib inline\r\n",
        "import warnings # ignore warnings\r\n",
        "warnings.filterwarnings('ignore')\r\n",
        "import os\r\n",
        "for dirname, _, filenames in os.walk('/kaggle/input'):\r\n",
        "    for filename in filenames:\r\n",
        "        print(os.path.join(dirname, filename))"
      ],
      "execution_count": 1,
      "outputs": [
        {
          "output_type": "stream",
          "text": [
            "Python version: 3.6.9 (default, Oct  8 2020, 12:12:24) \n",
            "[GCC 8.4.0]\n",
            "NumPy version: 1.19.5\n",
            "pandas version: 1.1.5\n",
            "matplotlib version: 3.2.2\n"
          ],
          "name": "stdout"
        }
      ]
    },
    {
      "cell_type": "markdown",
      "metadata": {
        "id": "MQ-yd4G3w0ID"
      },
      "source": [
        "## Data Pre-Processing"
      ]
    },
    {
      "cell_type": "code",
      "metadata": {
        "colab": {
          "base_uri": "https://localhost:8080/"
        },
        "id": "wBSvyvrexLww",
        "outputId": "15ddd967-f461-4568-b1df-678918bf36cd"
      },
      "source": [
        "## Mount Google Drive to get data\r\n",
        "\r\n",
        "from google.colab import drive \r\n",
        "drive.mount('/content/drive')"
      ],
      "execution_count": 2,
      "outputs": [
        {
          "output_type": "stream",
          "text": [
            "Mounted at /content/drive\n"
          ],
          "name": "stdout"
        }
      ]
    },
    {
      "cell_type": "code",
      "metadata": {
        "id": "eVhfHnGoxzZe"
      },
      "source": [
        "import os\r\n",
        "root_dir = \"/content/drive/MyDrive/\"\r\n"
      ],
      "execution_count": null,
      "outputs": []
    },
    {
      "cell_type": "code",
      "metadata": {
        "id": "ae1To9FQw05Y"
      },
      "source": [
        "df = pd.read_csv('/kaggle/input/avocado-prices/avocado.csv')\r\n",
        "df.shape"
      ],
      "execution_count": null,
      "outputs": []
    }
  ]
}