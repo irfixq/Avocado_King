{
  "nbformat": 4,
  "nbformat_minor": 0,
  "metadata": {
    "colab": {
      "name": "Avocado_King.ipynb",
      "provenance": [],
      "authorship_tag": "ABX9TyMoDCqf9hsMCWRe9keXad8e",
      "include_colab_link": true
    },
    "kernelspec": {
      "name": "python3",
      "display_name": "Python 3"
    }
  },
  "cells": [
    {
      "cell_type": "markdown",
      "metadata": {
        "id": "view-in-github",
        "colab_type": "text"
      },
      "source": [
        "<a href=\"https://colab.research.google.com/github/irfixq/Avocado_King/blob/main/Avocado_King.ipynb\" target=\"_parent\"><img src=\"https://colab.research.google.com/assets/colab-badge.svg\" alt=\"Open In Colab\"/></a>"
      ]
    },
    {
      "cell_type": "markdown",
      "metadata": {
        "id": "3N37HxWnw2Ln"
      },
      "source": [
        "# Avocado King - Price & Sales Prediction using python"
      ]
    },
    {
      "cell_type": "code",
      "metadata": {
        "colab": {
          "base_uri": "https://localhost:8080/"
        },
        "id": "S_LgmTIRwhSn",
        "outputId": "8839dc63-ce8a-47c1-ebed-8e404035a683"
      },
      "source": [
        "import sys #access to system parameters https://docs.python.org/3/library/sys.html\r\n",
        "print(\"Python version: {}\". format(sys.version))\r\n",
        "import numpy as np # linear algebra\r\n",
        "print(\"NumPy version: {}\". format(np.__version__))\r\n",
        "import pandas as pd # data processing, CSV file I/O (e.g. pd.read_csv)\r\n",
        "print(\"pandas version: {}\". format(pd.__version__))\r\n",
        "import matplotlib # collection of functions for scientific and publication-ready visualization\r\n",
        "print(\"matplotlib version: {}\". format(matplotlib.__version__))\r\n",
        "import matplotlib.pyplot as plt\r\n",
        "%matplotlib inline\r\n",
        "import warnings # ignore warnings\r\n",
        "warnings.filterwarnings('ignore')"
      ],
      "execution_count": 1,
      "outputs": [
        {
          "output_type": "stream",
          "text": [
            "Python version: 3.6.9 (default, Oct  8 2020, 12:12:24) \n",
            "[GCC 8.4.0]\n",
            "NumPy version: 1.19.5\n",
            "pandas version: 1.1.5\n",
            "matplotlib version: 3.2.2\n"
          ],
          "name": "stdout"
        }
      ]
    },
    {
      "cell_type": "markdown",
      "metadata": {
        "id": "8OYOXbyezrvc"
      },
      "source": [
        "There are 2 options to get the data, either from GitHub or Google Drive.\r\n",
        "In this case, I prefer to use Git Clone since it will be easier for user to access the repo."
      ]
    },
    {
      "cell_type": "code",
      "metadata": {
        "colab": {
          "base_uri": "https://localhost:8080/"
        },
        "id": "flmH4nz0zgkI",
        "outputId": "0e128379-4427-4695-a74c-d85e866b1215"
      },
      "source": [
        "## Clone repo from GitHub\r\n",
        "\r\n",
        "! git clone 'https://github.com/irfixq/Avocado_King'"
      ],
      "execution_count": 2,
      "outputs": [
        {
          "output_type": "stream",
          "text": [
            "fatal: destination path 'Avocado_King' already exists and is not an empty directory.\n"
          ],
          "name": "stdout"
        }
      ]
    },
    {
      "cell_type": "code",
      "metadata": {
        "id": "wBSvyvrexLww"
      },
      "source": [
        "## Mount Google Drive to get data\r\n",
        "## make sure you uploaded the folder into your Google Drive first\r\n",
        "\r\n",
        "#from google.colab import drive \r\n",
        "#drive.mount('/content/drive')"
      ],
      "execution_count": null,
      "outputs": []
    },
    {
      "cell_type": "markdown",
      "metadata": {
        "id": "MQ-yd4G3w0ID"
      },
      "source": [
        "## Data Pre-Processing"
      ]
    },
    {
      "cell_type": "code",
      "metadata": {
        "colab": {
          "base_uri": "https://localhost:8080/"
        },
        "id": "KJ188A0N0bNZ",
        "outputId": "6d523d3f-1cb0-461d-add9-c7e253cdd7c7"
      },
      "source": [
        "## get working directory\r\n",
        "! pwd\r\n",
        "\r\n",
        "## list all folders in working directory\r\n",
        "! ls"
      ],
      "execution_count": 3,
      "outputs": [
        {
          "output_type": "stream",
          "text": [
            "/content\n",
            "Avocado_King  drive  sample_data\n"
          ],
          "name": "stdout"
        }
      ]
    },
    {
      "cell_type": "code",
      "metadata": {
        "id": "eVhfHnGoxzZe"
      },
      "source": [
        "## change working directory to github folder\r\n",
        "import os\r\n",
        "os.chdir('/content/Avocado_King')\r\n"
      ],
      "execution_count": 4,
      "outputs": []
    },
    {
      "cell_type": "code",
      "metadata": {
        "colab": {
          "base_uri": "https://localhost:8080/"
        },
        "id": "Xo7MTdcj1x2G",
        "outputId": "350532ba-e02e-4b7e-d971-459c611e41f1"
      },
      "source": [
        "## check working directory after change path\r\n",
        "! pwd\r\n",
        "! ls"
      ],
      "execution_count": 5,
      "outputs": [
        {
          "output_type": "stream",
          "text": [
            "/content/Avocado_King\n",
            "Avocado_King.ipynb\t   google-data.csv\t     README.md\n",
            "feature-explanations.xlsx  price-and-sales-data.csv\n"
          ],
          "name": "stdout"
        }
      ]
    },
    {
      "cell_type": "code",
      "metadata": {
        "colab": {
          "base_uri": "https://localhost:8080/"
        },
        "id": "ae1To9FQw05Y",
        "outputId": "38d5768e-bf96-4226-ab6f-7a185f14786b"
      },
      "source": [
        "## see the shape of the dataset (rows, columns)\r\n",
        "df_price = pd.read_csv('/content/Avocado_King/price-and-sales-data.csv')\r\n",
        "df_price.shape"
      ],
      "execution_count": 6,
      "outputs": [
        {
          "output_type": "execute_result",
          "data": {
            "text/plain": [
              "(25161, 13)"
            ]
          },
          "metadata": {
            "tags": []
          },
          "execution_count": 6
        }
      ]
    },
    {
      "cell_type": "code",
      "metadata": {
        "id": "ck_DDBfK21_-"
      },
      "source": [
        ""
      ],
      "execution_count": null,
      "outputs": []
    },
    {
      "cell_type": "code",
      "metadata": {
        "colab": {
          "base_uri": "https://localhost:8080/",
          "height": 422
        },
        "id": "xy7qD4a92Qdg",
        "outputId": "334eb304-ea8a-4f98-aafd-1907c406cfcb"
      },
      "source": [
        "## see the dataset\r\n",
        "df_price"
      ],
      "execution_count": 7,
      "outputs": [
        {
          "output_type": "execute_result",
          "data": {
            "text/html": [
              "<div>\n",
              "<style scoped>\n",
              "    .dataframe tbody tr th:only-of-type {\n",
              "        vertical-align: middle;\n",
              "    }\n",
              "\n",
              "    .dataframe tbody tr th {\n",
              "        vertical-align: top;\n",
              "    }\n",
              "\n",
              "    .dataframe thead th {\n",
              "        text-align: right;\n",
              "    }\n",
              "</style>\n",
              "<table border=\"1\" class=\"dataframe\">\n",
              "  <thead>\n",
              "    <tr style=\"text-align: right;\">\n",
              "      <th></th>\n",
              "      <th>Date</th>\n",
              "      <th>AveragePrice</th>\n",
              "      <th>TotalVolume</th>\n",
              "      <th>4046</th>\n",
              "      <th>4225</th>\n",
              "      <th>4770</th>\n",
              "      <th>TotalBags</th>\n",
              "      <th>SmallBags</th>\n",
              "      <th>LargeBags</th>\n",
              "      <th>XLargeBags</th>\n",
              "      <th>type</th>\n",
              "      <th>year</th>\n",
              "      <th>region</th>\n",
              "    </tr>\n",
              "  </thead>\n",
              "  <tbody>\n",
              "    <tr>\n",
              "      <th>0</th>\n",
              "      <td>1/4/2015</td>\n",
              "      <td>1.22</td>\n",
              "      <td>40873.28</td>\n",
              "      <td>2819.50</td>\n",
              "      <td>28287.42</td>\n",
              "      <td>49.90</td>\n",
              "      <td>9716.46</td>\n",
              "      <td>9186.93</td>\n",
              "      <td>529.53</td>\n",
              "      <td>0.00</td>\n",
              "      <td>conventional</td>\n",
              "      <td>2015</td>\n",
              "      <td>Albany</td>\n",
              "    </tr>\n",
              "    <tr>\n",
              "      <th>1</th>\n",
              "      <td>1/4/2015</td>\n",
              "      <td>1.00</td>\n",
              "      <td>435021.49</td>\n",
              "      <td>364302.39</td>\n",
              "      <td>23821.16</td>\n",
              "      <td>82.15</td>\n",
              "      <td>46815.79</td>\n",
              "      <td>16707.15</td>\n",
              "      <td>30108.64</td>\n",
              "      <td>0.00</td>\n",
              "      <td>conventional</td>\n",
              "      <td>2015</td>\n",
              "      <td>Atlanta</td>\n",
              "    </tr>\n",
              "    <tr>\n",
              "      <th>2</th>\n",
              "      <td>1/4/2015</td>\n",
              "      <td>NaN</td>\n",
              "      <td>788025.06</td>\n",
              "      <td>53987.31</td>\n",
              "      <td>552906.04</td>\n",
              "      <td>39995.03</td>\n",
              "      <td>141136.68</td>\n",
              "      <td>137146.07</td>\n",
              "      <td>3990.61</td>\n",
              "      <td>0.00</td>\n",
              "      <td>conventional</td>\n",
              "      <td>2015</td>\n",
              "      <td>BaltimoreWashington</td>\n",
              "    </tr>\n",
              "    <tr>\n",
              "      <th>3</th>\n",
              "      <td>1/4/2015</td>\n",
              "      <td>1.01</td>\n",
              "      <td>80034.32</td>\n",
              "      <td>44562.12</td>\n",
              "      <td>24964.23</td>\n",
              "      <td>2752.35</td>\n",
              "      <td>7755.62</td>\n",
              "      <td>6064.30</td>\n",
              "      <td>1691.32</td>\n",
              "      <td>0.00</td>\n",
              "      <td>conventional</td>\n",
              "      <td>2015</td>\n",
              "      <td>Boise</td>\n",
              "    </tr>\n",
              "    <tr>\n",
              "      <th>4</th>\n",
              "      <td>1/4/2015</td>\n",
              "      <td>1.02</td>\n",
              "      <td>491738.00</td>\n",
              "      <td>7193.87</td>\n",
              "      <td>396752.18</td>\n",
              "      <td>128.82</td>\n",
              "      <td>87663.13</td>\n",
              "      <td>87406.84</td>\n",
              "      <td>256.29</td>\n",
              "      <td>0.00</td>\n",
              "      <td>conventional</td>\n",
              "      <td>2015</td>\n",
              "      <td>Boston</td>\n",
              "    </tr>\n",
              "    <tr>\n",
              "      <th>...</th>\n",
              "      <td>...</td>\n",
              "      <td>...</td>\n",
              "      <td>...</td>\n",
              "      <td>...</td>\n",
              "      <td>...</td>\n",
              "      <td>...</td>\n",
              "      <td>...</td>\n",
              "      <td>...</td>\n",
              "      <td>...</td>\n",
              "      <td>...</td>\n",
              "      <td>...</td>\n",
              "      <td>...</td>\n",
              "      <td>...</td>\n",
              "    </tr>\n",
              "    <tr>\n",
              "      <th>25156</th>\n",
              "      <td>7/14/2019</td>\n",
              "      <td>1.66</td>\n",
              "      <td>4007.93</td>\n",
              "      <td>218.47</td>\n",
              "      <td>252.29</td>\n",
              "      <td>0.00</td>\n",
              "      <td>3537.17</td>\n",
              "      <td>1460.65</td>\n",
              "      <td>2076.52</td>\n",
              "      <td>0.00</td>\n",
              "      <td>organic</td>\n",
              "      <td>2019</td>\n",
              "      <td>Syracuse</td>\n",
              "    </tr>\n",
              "    <tr>\n",
              "      <th>25157</th>\n",
              "      <td>7/14/2019</td>\n",
              "      <td>1.06</td>\n",
              "      <td>3767.89</td>\n",
              "      <td>129.01</td>\n",
              "      <td>0.00</td>\n",
              "      <td>0.00</td>\n",
              "      <td>3638.88</td>\n",
              "      <td>3635.55</td>\n",
              "      <td>3.33</td>\n",
              "      <td>0.00</td>\n",
              "      <td>organic</td>\n",
              "      <td>2019</td>\n",
              "      <td>Tampa</td>\n",
              "    </tr>\n",
              "    <tr>\n",
              "      <th>25158</th>\n",
              "      <td>7/14/2019</td>\n",
              "      <td>1.99</td>\n",
              "      <td>1236969.18</td>\n",
              "      <td>106370.49</td>\n",
              "      <td>209820.63</td>\n",
              "      <td>5606.10</td>\n",
              "      <td>915082.38</td>\n",
              "      <td>667494.94</td>\n",
              "      <td>247562.25</td>\n",
              "      <td>25.19</td>\n",
              "      <td>organic</td>\n",
              "      <td>2019</td>\n",
              "      <td>TotalUS</td>\n",
              "    </tr>\n",
              "    <tr>\n",
              "      <th>25159</th>\n",
              "      <td>7/14/2019</td>\n",
              "      <td>2.33</td>\n",
              "      <td>209408.22</td>\n",
              "      <td>23918.57</td>\n",
              "      <td>42432.02</td>\n",
              "      <td>985.67</td>\n",
              "      <td>142071.96</td>\n",
              "      <td>75883.13</td>\n",
              "      <td>66163.64</td>\n",
              "      <td>25.19</td>\n",
              "      <td>organic</td>\n",
              "      <td>2019</td>\n",
              "      <td>West</td>\n",
              "    </tr>\n",
              "    <tr>\n",
              "      <th>25160</th>\n",
              "      <td>7/14/2019</td>\n",
              "      <td>1.84</td>\n",
              "      <td>16372.24</td>\n",
              "      <td>1195.71</td>\n",
              "      <td>681.10</td>\n",
              "      <td>2765.31</td>\n",
              "      <td>11730.12</td>\n",
              "      <td>10861.33</td>\n",
              "      <td>868.79</td>\n",
              "      <td>0.00</td>\n",
              "      <td>organic</td>\n",
              "      <td>2019</td>\n",
              "      <td>WestTexNewMexico</td>\n",
              "    </tr>\n",
              "  </tbody>\n",
              "</table>\n",
              "<p>25161 rows × 13 columns</p>\n",
              "</div>"
            ],
            "text/plain": [
              "            Date  AveragePrice  ...  year               region\n",
              "0       1/4/2015          1.22  ...  2015               Albany\n",
              "1       1/4/2015          1.00  ...  2015              Atlanta\n",
              "2       1/4/2015           NaN  ...  2015  BaltimoreWashington\n",
              "3       1/4/2015          1.01  ...  2015                Boise\n",
              "4       1/4/2015          1.02  ...  2015               Boston\n",
              "...          ...           ...  ...   ...                  ...\n",
              "25156  7/14/2019          1.66  ...  2019             Syracuse\n",
              "25157  7/14/2019          1.06  ...  2019                Tampa\n",
              "25158  7/14/2019          1.99  ...  2019              TotalUS\n",
              "25159  7/14/2019          2.33  ...  2019                 West\n",
              "25160  7/14/2019          1.84  ...  2019     WestTexNewMexico\n",
              "\n",
              "[25161 rows x 13 columns]"
            ]
          },
          "metadata": {
            "tags": []
          },
          "execution_count": 7
        }
      ]
    },
    {
      "cell_type": "code",
      "metadata": {
        "colab": {
          "base_uri": "https://localhost:8080/"
        },
        "id": "tNPDAjUJ2cZd",
        "outputId": "3aa8583f-b707-4c9d-a19f-2646678cd66f"
      },
      "source": [
        "## see the shape of the google search data (rows, columns)\r\n",
        "df_google = pd.read_csv('/content/Avocado_King/google-data.csv')\r\n",
        "df_google.shape"
      ],
      "execution_count": 8,
      "outputs": [
        {
          "output_type": "execute_result",
          "data": {
            "text/plain": [
              "(239, 7)"
            ]
          },
          "metadata": {
            "tags": []
          },
          "execution_count": 8
        }
      ]
    },
    {
      "cell_type": "code",
      "metadata": {
        "colab": {
          "base_uri": "https://localhost:8080/",
          "height": 418
        },
        "id": "NgRopGek2rmH",
        "outputId": "40408895-f0ba-4862-f956-252644e71eb0"
      },
      "source": [
        "df_google"
      ],
      "execution_count": 9,
      "outputs": [
        {
          "output_type": "execute_result",
          "data": {
            "text/html": [
              "<div>\n",
              "<style scoped>\n",
              "    .dataframe tbody tr th:only-of-type {\n",
              "        vertical-align: middle;\n",
              "    }\n",
              "\n",
              "    .dataframe tbody tr th {\n",
              "        vertical-align: top;\n",
              "    }\n",
              "\n",
              "    .dataframe thead th {\n",
              "        text-align: right;\n",
              "    }\n",
              "</style>\n",
              "<table border=\"1\" class=\"dataframe\">\n",
              "  <thead>\n",
              "    <tr style=\"text-align: right;\">\n",
              "      <th></th>\n",
              "      <th>Week</th>\n",
              "      <th>avocado: (United States)</th>\n",
              "      <th>organic: (United States)</th>\n",
              "      <th>avocado recipe: (United States)</th>\n",
              "      <th>avocado toast: (United States)</th>\n",
              "      <th>avocado sandwich: (United States)</th>\n",
              "      <th>organic avocado: (United States)</th>\n",
              "    </tr>\n",
              "  </thead>\n",
              "  <tbody>\n",
              "    <tr>\n",
              "      <th>0</th>\n",
              "      <td>1/4/2015</td>\n",
              "      <td>46</td>\n",
              "      <td>76</td>\n",
              "      <td>84</td>\n",
              "      <td>8</td>\n",
              "      <td>51</td>\n",
              "      <td>10</td>\n",
              "    </tr>\n",
              "    <tr>\n",
              "      <th>1</th>\n",
              "      <td>1/11/2015</td>\n",
              "      <td>48</td>\n",
              "      <td>79</td>\n",
              "      <td>76</td>\n",
              "      <td>8</td>\n",
              "      <td>38</td>\n",
              "      <td>29</td>\n",
              "    </tr>\n",
              "    <tr>\n",
              "      <th>2</th>\n",
              "      <td>1/18/2015</td>\n",
              "      <td>48</td>\n",
              "      <td>82</td>\n",
              "      <td>84</td>\n",
              "      <td>9</td>\n",
              "      <td>66</td>\n",
              "      <td>27</td>\n",
              "    </tr>\n",
              "    <tr>\n",
              "      <th>3</th>\n",
              "      <td>1/25/2015</td>\n",
              "      <td>49</td>\n",
              "      <td>82</td>\n",
              "      <td>89</td>\n",
              "      <td>8</td>\n",
              "      <td>44</td>\n",
              "      <td>28</td>\n",
              "    </tr>\n",
              "    <tr>\n",
              "      <th>4</th>\n",
              "      <td>2/1/2015</td>\n",
              "      <td>52</td>\n",
              "      <td>81</td>\n",
              "      <td>82</td>\n",
              "      <td>7</td>\n",
              "      <td>46</td>\n",
              "      <td>42</td>\n",
              "    </tr>\n",
              "    <tr>\n",
              "      <th>...</th>\n",
              "      <td>...</td>\n",
              "      <td>...</td>\n",
              "      <td>...</td>\n",
              "      <td>...</td>\n",
              "      <td>...</td>\n",
              "      <td>...</td>\n",
              "      <td>...</td>\n",
              "    </tr>\n",
              "    <tr>\n",
              "      <th>234</th>\n",
              "      <td>6/30/2019</td>\n",
              "      <td>61</td>\n",
              "      <td>73</td>\n",
              "      <td>80</td>\n",
              "      <td>52</td>\n",
              "      <td>62</td>\n",
              "      <td>35</td>\n",
              "    </tr>\n",
              "    <tr>\n",
              "      <th>235</th>\n",
              "      <td>7/7/2019</td>\n",
              "      <td>58</td>\n",
              "      <td>76</td>\n",
              "      <td>66</td>\n",
              "      <td>55</td>\n",
              "      <td>51</td>\n",
              "      <td>42</td>\n",
              "    </tr>\n",
              "    <tr>\n",
              "      <th>236</th>\n",
              "      <td>7/14/2019</td>\n",
              "      <td>60</td>\n",
              "      <td>76</td>\n",
              "      <td>68</td>\n",
              "      <td>53</td>\n",
              "      <td>50</td>\n",
              "      <td>43</td>\n",
              "    </tr>\n",
              "    <tr>\n",
              "      <th>237</th>\n",
              "      <td>7/21/2019</td>\n",
              "      <td>60</td>\n",
              "      <td>74</td>\n",
              "      <td>68</td>\n",
              "      <td>56</td>\n",
              "      <td>54</td>\n",
              "      <td>49</td>\n",
              "    </tr>\n",
              "    <tr>\n",
              "      <th>238</th>\n",
              "      <td>7/28/2019</td>\n",
              "      <td>66</td>\n",
              "      <td>74</td>\n",
              "      <td>79</td>\n",
              "      <td>55</td>\n",
              "      <td>46</td>\n",
              "      <td>36</td>\n",
              "    </tr>\n",
              "  </tbody>\n",
              "</table>\n",
              "<p>239 rows × 7 columns</p>\n",
              "</div>"
            ],
            "text/plain": [
              "          Week  ...  organic avocado: (United States)\n",
              "0     1/4/2015  ...                                10\n",
              "1    1/11/2015  ...                                29\n",
              "2    1/18/2015  ...                                27\n",
              "3    1/25/2015  ...                                28\n",
              "4     2/1/2015  ...                                42\n",
              "..         ...  ...                               ...\n",
              "234  6/30/2019  ...                                35\n",
              "235   7/7/2019  ...                                42\n",
              "236  7/14/2019  ...                                43\n",
              "237  7/21/2019  ...                                49\n",
              "238  7/28/2019  ...                                36\n",
              "\n",
              "[239 rows x 7 columns]"
            ]
          },
          "metadata": {
            "tags": []
          },
          "execution_count": 9
        }
      ]
    },
    {
      "cell_type": "code",
      "metadata": {
        "id": "JjuAGpve2tqO"
      },
      "source": [
        ""
      ],
      "execution_count": null,
      "outputs": []
    }
  ]
}